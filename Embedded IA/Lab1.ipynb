{
 "cells": [
  {
   "cell_type": "markdown",
   "id": "93ffe3cd",
   "metadata": {},
   "source": [
    "# Lab1 (5IR - 2024): Human Activity Recognition (HAR) - Supervised learning\n",
    "\n",
    "**Group name:** A2\n",
    "\n",
    "**Names:** HOUSNI & BOUZERGAN\n",
    "\n",
    "**First names:** Lamiaa & Kenza\n"
   ]
  },
  {
   "cell_type": "markdown",
   "id": "0fb85298-2bcf-43d4-b104-b1e7f35db6c7",
   "metadata": {},
   "source": [
    "***Introduction***\n",
    "\n",
    "In this project, our objective is to predict eight human activities, such as Recumbent, Sitting, Standing, Walking, Biking, Nordic Walking, Cleaning_Aspirator, and Repassing. We're using sensors like accelerometer, gyroscope, magnetometer, and temperature, placed on different body parts (hand, torso, and ankle). The measurements, provided in $ms^{-2}$, $rad/s$, and $\\mu T$, are taken on three axes at a sampling rate of 100Hz. Each measurement is labeled with the corresponding human activity. The project is divided into three parts: Part I focuses on implementing Dynamic Time Warping (DTW) for a k-NN recognition system, while Part II involves dimension reduction using PCA and classification with neural networks. Part III (Bonus) explores dimension reduction using k-medoids for DTW combined with k-NN. These steps aim to create an efficient and accurate human activity recognition system."
   ]
  },
  {
   "cell_type": "code",
   "execution_count": 9,
   "id": "5e2aa238",
   "metadata": {},
   "outputs": [],
   "source": [
    "import matplotlib.pyplot as plt\n",
    "import numpy as np\n",
    "import sklearn\n",
    "import pandas as pd\n",
    "import math\n",
    "from scipy import stats\n",
    "import seaborn as sns"
   ]
  },
  {
   "cell_type": "markdown",
   "id": "ad5c110d",
   "metadata": {},
   "source": [
    "# Loading training and test data"
   ]
  },
  {
   "cell_type": "code",
   "execution_count": 10,
   "id": "3ecf44f8",
   "metadata": {},
   "outputs": [
    {
     "data": {
      "image/png": "[encoded data removed]",
      "text/plain": [
       "<Figure size 640x480 with 1 Axes>"
      ]
     },
     "metadata": {},
     "output_type": "display_data"
    }
   ],
   "source": [
    "# Data loading\n",
    "\n",
    "# Sensors part (Accelerometer, Gyroscope and Magnetometer) placed on the Hand \n",
    "# (do the same for the 2 other sensor positions: torso and ankle)\n",
    "fh1=np.load('DataHandAcc.npz')\n",
    "DataHandAcc=fh1['DataHandAcc']\n",
    "fh2=np.load('DataHandGyro.npz')\n",
    "DataHandGyro=fh2['DataHandGyro']\n",
    "fh3=np.load('DataHandMagneto.npz')\n",
    "DataHandMagneto=fh3['DataHandMagneto']\n",
    "# TODO\n",
    "\n",
    "# Ankle\n",
    "fh4=np.load('DataAnkleAcc.npz')\n",
    "DataAnkleAcc=fh4['DataAnkleAcc']\n",
    "fh5=np.load('DataAnkleGyro.npz')\n",
    "DataAnkleGyro=fh5['DataAnkleGyro']\n",
    "fh6=np.load('DataAnkleMagneto.npz')\n",
    "DataAnkleMagneto=fh6['DataAnkleMagneto']\n",
    "\n",
    "#Chest\n",
    "fh7=np.load('DataChestAcc.npz')\n",
    "DataChestAcc=fh7['DataChestAcc']\n",
    "fh8=np.load('DataChestGyro.npz')\n",
    "DataChestGyro=fh8['DataChestGyro']\n",
    "fh9=np.load('DataChestMagneto.npz')\n",
    "DataChestMagneto=fh9['DataChestMagneto']\n",
    "\n",
    "\n",
    "# Loading the ground truth: labels\n",
    "fl=np.load('labels.npz')\n",
    "labels=fl['labels']\n",
    "\n",
    "# Repartition of data by class\n",
    "plt.hist(labels,bins=16)\n",
    "plt.xlabel('Differentes activites')\n",
    "plt.ylabel('Nombre de donnees')\n",
    "plt.show()"
   ]
  },
  {
   "cell_type": "code",
   "execution_count": 12,
   "id": "daf5ae27-e765-418e-9591-4e9d195ac80d",
   "metadata": {},
   "outputs": [],
   "source": [
    "# Separation of data into training and test databases\n",
    "from sklearn.model_selection import train_test_split\n",
    "\n",
    "listeData=[*range(labels.shape[0])]\n",
    "listeData=np.random.randint(len(listeData), size = 500) # Smaller dataset\n",
    "labels=labels[listeData] # Fit labels to the new listeData\n",
    "Liste_Base_train, Liste_Base_test, y_train, y_test = train_test_split(listeData, labels, test_size=0.20, random_state=42)"
   ]
  },
  {
   "cell_type": "markdown",
   "id": "59938594",
   "metadata": {},
   "source": [
    "# Part I-a: Implementing the dynamic programming algorithm \n",
    "\n",
    "1. Write a function in DTW python that implements the calculation. Implement it such that\n",
    "- the local distance used is a parameter which is a callable function with 2 inputs and 1 output: e.g. euclidian distance(a, b)\n",
    "- local distances can be computed with any type of input local data: e.g. (a,b)=('A','T'), (a,b)=(12,22), (a,b)=( (1,2,3), (4,5,6) )."
   ]
  },
  {
   "cell_type": "code",
   "execution_count": 13,
   "id": "a5905b7a",
   "metadata": {},
   "outputs": [],
   "source": [
    "def euclidean_distance(a, b):\n",
    "    return np.sqrt(np.sum((np.array(a) - np.array(b))**2))\n",
    "\n",
    "\n",
    "def dtw(ts_a, ts_b, distance_func=euclidean_distance):\n",
    "    m = len(ts_a)\n",
    "    n = len(ts_b)\n",
    "\n",
    "    # Matrix to store the accumulated distances\n",
    "    matrix = np.zeros((m + 1, n + 1))\n",
    "\n",
    "    # Initialize the first row and column to infinity to ensure movement to the right or down\n",
    "    matrix[:, 0] = np.inf\n",
    "    matrix[0, :] = np.inf\n",
    "\n",
    "    # Start point\n",
    "    matrix[0, 0] = 0\n",
    "\n",
    "    # Accumulated distances\n",
    "    for i in range(1, m + 1):\n",
    "        for j in range(1, n + 1):\n",
    "            cost = distance_func(ts_a[i - 1], ts_b[j - 1])\n",
    "            matrix[i, j] = cost + min(matrix[i - 1, j],      # Insertion\n",
    "                                       matrix[i, j - 1],      # Deletion\n",
    "                                       matrix[i - 1, j - 1])  # Match\n",
    "\n",
    "    return matrix[-1, -1]\n"
   ]
  },
  {
   "cell_type": "markdown",
   "id": "3529048f",
   "metadata": {},
   "source": [
    "2. Test your methods on the examples given in class."
   ]
  },
  {
   "cell_type": "code",
   "execution_count": 15,
   "id": "adac91c2",
   "metadata": {},
   "outputs": [
    {
     "name": "stdout",
     "output_type": "stream",
     "text": [
      "DTW distance DTW(X, Y) = 6.0\n"
     ]
    }
   ],
   "source": [
    "# Time series s1 and s2\n",
    "#X = [1, 3, 9, 2, 1]\n",
    "#Y = [2, 0, 0, 8, 7, 2]\n",
    "#X = [7, 1, 2, 5, 9]\n",
    "#Y = [1, 8, 0, 4, 4, 2, 0]\n",
    "X = [3, 1, 2, 2, 1]\n",
    "Y = [2, 0, 0, 3, 3, 1, 0]\n",
    "\n",
    "# Calculate the alignment score\n",
    "matrix = dtw(X, Y, euclidean_distance)\n",
    "print('DTW distance DTW(X, Y) =', matrix)\n"
   ]
  },
  {
   "cell_type": "markdown",
   "id": "fb5c1d02-e551-440a-b6f0-ab486fc36871",
   "metadata": {},
   "source": [
    "We tried calculating the matrix by hand and we can confirm that it's the right distance. "
   ]
  },
  {
   "cell_type": "markdown",
   "id": "6d8f68d7",
   "metadata": {},
   "source": [
    "# Part I-b: DTW human activity recognition system\n",
    "\n",
    "For each test time profile :\n",
    "\n",
    "a) For each class, compute the DTW score between the test temporal profile and the temporal profiles of the class. Test with data from only one sensor then include them all if possible.\n",
    "\n",
    "b) Determine the class membership by k-nearest neighbors"
   ]
  },
  {
   "cell_type": "markdown",
   "id": "fc22b477",
   "metadata": {},
   "source": [
    "**Information:**\n",
    "We use the library sklearn.neighbors to execute an example of this classification algorithm.\n",
    "\n",
    "The algorithm k-NN is implemented in a package called **neighbors**.\n",
    "Here are the main commands:\n",
    "- The line **clf = neighbors.KNeighborsClassifier(n_neighbors)** creates an object of type classifier based on the n_neighbors closest neighbors,\n",
    "- The instruction clf.fit(X, y) uses the data to define the classifier (training),\n",
    "- The command **clf.predict()** is used to classify the new examples,\n",
    "- The command **clf.predict_proba()** allows to estimate the probability of the proposed classification,\n",
    "- The command **clf.score(xtest, ytest)** computes the global score of the classifier for a given dataset.\n",
    "\n",
    "<img src=\"https://miro.medium.com/v2/resize:fit:488/1*9h-WczF6csbeut5vsvjSUA.gif\" alt=\"k-NN example\" />\n",
    "\n",
    "KNeighborsClassifier takes as argument *metrics* which can be:\n",
    "- a string with the distance name: default='minkowski'\n",
    "- a callable function taking as input 2 arrays representing 1D vectors and returning one value indicating the distance between those vectors. **Use this option with the DTW function you implemented.**"
   ]
  },
  {
   "cell_type": "markdown",
   "id": "05e88321-30e5-4992-bbe7-d5807c755b14",
   "metadata": {},
   "source": [
    "a)"
   ]
  },
  {
   "cell_type": "code",
   "execution_count": 16,
   "id": "6a0a9a4f-4dfb-4f75-a6f1-cee8cdb0bb42",
   "metadata": {
    "scrolled": true
   },
   "outputs": [
    {
     "name": "stdout",
     "output_type": "stream",
     "text": [
      "DTW scores for class 1: [9.126112397760153, 16.32490222528577, 10.44389350246638, 8.073181124404073, 9.126112397760153, 21.58454546984285, 597.1680235862732, 771.9993464946747, 9.126112397760153, 771.9993464946747, 9.860301892273128, 316.82291743159294, 771.9993464946747, 10.44389350246638, 597.1680235862732, 16.32490222528577, 8.073181124404073, 16.32490222528577, 771.9993464946747, 9.126112397760153, 9.126112397760153, 16.32490222528577, 9.860301892273128, 21.58454546984285, 9.126112397760153, 21.58454546984285, 9.860301892273128, 771.9993464946747, 10.44389350246638, 771.9993464946747, 16.32490222528577, 597.1680235862732, 21.58454546984285, 10.44389350246638, 10.44389350246638, 16.32490222528577, 597.1680235862732]\n",
      "DTW scores for class 2: [877.5347990989685, 8.29615604924038, 201.6840108036995, 597.388605594635, 8.29615604924038, 201.6840108036995, 597.388605594635, 9.079080924391747, 597.388605594635, 8.29615604924038, 8.29615604924038, 9.079080924391747, 596.9759883880615, 597.388605594635, 596.9759883880615, 8.29615604924038, 596.9759883880615]\n",
      "DTW scores for class 3: [595.9993371963501, 18.1043118853122, 0.0, 595.7227702140808, 613.3095760345459, 10.10783053515479, 13.028997199609876, 596.614333152771, 558.1125068664551, 0.0, 595.163863658905, 613.3095760345459, 4.995155246928334, 334.7237146496773, 11.739163576625288, 613.3095760345459, 11.739163576625288, 596.614333152771, 1084.042685508728, 613.3095760345459, 595.163863658905, 666.8432443141937, 10.10783053515479, 595.163863658905, 13.028997199609876, 597.0441093444824, 595.9993371963501, 595.7227702140808, 7.790686780586839, 449.8215496148914, 1084.042685508728, 13.028997199609876, 597.0441093444824, 613.3095760345459, 613.3095760345459, 1084.042685508728, 558.1125068664551, 4.995155246928334, 596.473135471344, 595.9993371963501, 595.163863658905, 595.7227702140808, 595.7227702140808, 7.790686780586839, 449.8215496148914, 7.790686780586839, 7.790686780586839, 595.163863658905, 11.739163576625288, 596.473135471344, 449.8215496148914, 666.8432443141937, 595.7227702140808, 10.10783053515479, 613.3095760345459, 613.3095760345459, 1084.042685508728, 10.10783053515479, 449.8215496148914, 7.790686780586839, 0.0, 666.8432443141937, 0.0, 1084.042685508728, 449.8215496148914, 4.995155246928334, 11.739163576625288, 1144.4634008407593, 596.473135471344, 1084.042685508728, 1084.042685508728, 1144.4634008407593, 1084.042685508728, 595.7227702140808, 1144.4634008407593, 595.7227702140808, 4.995155246928334, 595.163863658905, 597.0441093444824, 16.278913259506226, 1084.042685508728, 613.3095760345459, 595.7227702140808]\n",
      "DTW scores for class 4: [104.0267361132428, 596.6665511131287, 18.660335579887033, 619.1737632751465, 24.654395703226328, 104.0267361132428, 9.295970181934536, 619.1737632751465, 18.660335579887033, 10.289114100392908, 13.049639055505395, 854.5042691230774, 619.1737632751465, 619.3353271484375, 104.0267361132428, 9.232782350853086, 854.5042691230774, 619.1737632751465, 104.0267361132428, 619.3353271484375, 104.0267361132428, 596.6170091629028, 10.289114100392908, 13.049639055505395, 104.0267361132428, 13.049639055505395, 9.295970181934536, 9.295970181934536, 854.5042691230774, 619.1737632751465, 12.337566819041967, 597.6951022148132, 10.289114100392908, 10.289114100392908, 9.295970181934536, 13.049639055505395, 12.337566819041967, 597.6951022148132, 8.427302395924926, 854.5042691230774, 9.232782350853086, 619.1737632751465, 9.295970181934536, 10.289114100392908, 18.660335579887033, 10.289114100392908, 9.295970181934536, 854.5042691230774, 104.0267361132428, 619.3353271484375, 104.0267361132428, 11.28904496319592, 9.232782350853086, 10.289114100392908, 597.6951022148132, 854.5042691230774, 619.1737632751465, 9.232782350853086, 104.0267361132428, 596.6170091629028, 11.28904496319592, 18.660335579887033, 9.295970181934536, 9.232782350853086, 854.5042691230774]\n",
      "DTW scores for class 5: [11.233315978199244, 597.5480132102966, 596.1965036392212, 20.09863656014204, 27.507946215569973, 13.025733502581716, 597.5480132102966, 11.233315978199244, 13.025733502581716, 13.025733502581716, 888.5512075424194, 79.66966658830643, 13.025733502581716, 79.66966658830643, 13.025733502581716, 13.025733502581716, 19.327756125479937, 27.507946215569973, 19.327756125479937, 888.5512075424194, 888.5512075424194, 13.025733502581716, 596.1965036392212, 19.327756125479937, 597.5480132102966, 888.5512075424194, 597.6189594268799, 596.1965036392212, 27.507946215569973, 597.5480132102966, 596.1965036392212, 11.233315978199244, 19.327756125479937, 19.327756125479937, 13.025733502581716, 596.1965036392212, 597.6189594268799, 888.5512075424194, 597.6189594268799, 596.1965036392212, 27.507946215569973, 20.09863656014204, 19.327756125479937, 19.327756125479937]\n",
      "DTW scores for class 6: [23.1085636196658, 597.3388171195984, 23.1085636196658, 597.3388171195984, 597.3388171195984, 595.5322065353394, 30.748782888054848, 30.748782888054848, 23.1085636196658, 23.1085636196658, 1228.0217108726501, 594.9806385040283, 23.1085636196658, 1228.0217108726501, 30.748782888054848, 596.6649022102356, 597.3388171195984, 30.748782888054848, 597.3388171195984, 30.748782888054848, 597.3388171195984, 11.478381074965, 597.3388171195984, 594.9806385040283, 1228.0217108726501, 30.748782888054848, 30.748782888054848, 594.9806385040283, 597.3388171195984, 595.5322065353394, 595.5322065353394, 596.6649022102356, 30.748782888054848, 30.748782888054848, 594.9806385040283]\n",
      "DTW scores for class 7: [12.727158852852881, 30.18661293387413, 853.0344595909119, 12.727158852852881, 30.18661293387413, 3.6390865184366703, 30.18661293387413, 596.9553208351135, 596.9553208351135, 853.0344595909119, 15.095538610592484, 15.095538610592484, 21.415985620580614, 596.4201593399048, 30.18661293387413, 30.18661293387413, 596.4623041152954, 596.4201593399048, 597.1223759651184, 596.5842318534851, 31.73849520087242, 597.5836863517761, 597.5836863517761, 597.5836863517761, 30.18661293387413, 12.727158852852881, 595.4331793785095, 11.938233941793442, 597.5836863517761, 595.4331793785095, 595.4331793785095, 596.9553208351135, 10.188316630199552, 853.0344595909119, 853.0344595909119, 596.4623041152954, 597.5836863517761, 10.188316630199552, 596.4201593399048, 597.1223759651184, 596.9553208351135, 21.415985620580614, 30.18661293387413, 12.727158852852881, 597.1223759651184, 595.4331793785095, 596.9553208351135, 31.73849520087242, 12.727158852852881, 614.6881008148193, 596.4201593399048, 10.188316630199552, 11.938233941793442, 21.415985620580614, 596.4201593399048, 614.6881008148193, 12.727158852852881, 3.6390865184366703, 597.5836863517761, 3.6390865184366703, 853.0344595909119, 21.415985620580614]\n",
      "DTW scores for class 8: [1075.5423908233643, 1208.0526127815247, 222.64303699601442, 8.185159971937537, 595.5007586479187, 429.7246687412262, 595.2833080291748, 882.976879119873, 595.5007586479187, 13.769302673637867, 595.5007586479187, 595.2833080291748, 429.7246687412262, 13.769302673637867, 13.769302673637867, 222.64303699601442, 595.2833080291748, 8.185159971937537, 429.7246687412262, 1075.5423908233643, 882.976879119873, 429.7246687412262, 595.2833080291748, 597.1346144676208, 595.5007586479187, 882.976879119873, 429.7246687412262, 595.5007586479187, 8.185159971937537, 9.924587786197662, 13.769302673637867, 597.1346144676208, 595.5007586479187, 597.1346144676208, 13.769302673637867, 1075.5423908233643, 10.345077686011791, 10.345077686011791, 597.1346144676208, 13.769302673637867, 222.64303699601442, 8.185159971937537, 222.64303699601442, 882.976879119873, 429.7246687412262, 595.2833080291748, 222.64303699601442, 8.185159971937537, 595.5007586479187, 597.1346144676208, 10.345077686011791, 1208.0526127815247, 595.5007586479187, 222.64303699601442, 8.185159971937537, 429.7246687412262, 597.1346144676208]\n"
     ]
    }
   ],
   "source": [
    "\n",
    "# Function to compute DTW scores for each class\n",
    "def compute_dtw_scores(test_profile, class_profiles, distance_func=dtw):\n",
    "    dtw_scores = []\n",
    "    for class_profile in class_profiles:\n",
    "        dtw_score = distance_func(test_profile, class_profile)\n",
    "        dtw_scores.append(dtw_score)\n",
    "    return dtw_scores\n",
    "\n",
    "# Function to smooth the signal using downsampling\n",
    "def smooth_signal(X, k):\n",
    "    for i in range(len(X)):\n",
    "        Xi = X[i]\n",
    "        downsample = math.ceil(len(Xi) / k)\n",
    "        for j in range(downsample):\n",
    "            Xj = Xi[j * k : min((j + 1) * k, len(Xi)), :]\n",
    "            X[i, j] = np.mean(Xj, axis=0)\n",
    "    X = X[:, :downsample, :]\n",
    "    return X\n",
    "\n",
    "# Choose a downsampling factor (k) based on your requirement\n",
    "k = 5\n",
    "\n",
    "# Example usage for one sensor (e.g., accelerometer on hand)\n",
    "sensor_data_train = DataHandAcc[Liste_Base_train]\n",
    "sensor_data_test = DataHandAcc[Liste_Base_test]\n",
    "\n",
    "# Apply smoothing to training and test data\n",
    "smoothed_sensor_data_train = smooth_signal(sensor_data_train, k)\n",
    "smoothed_sensor_data_test = smooth_signal(sensor_data_test, k)\n",
    "\n",
    "# Choose a test sample index (you can iterate over all test samples)\n",
    "test_index = 0\n",
    "test_sample = smoothed_sensor_data_test[test_index]\n",
    "\n",
    "# Iterate over classes\n",
    "for class_label in np.unique(labels):\n",
    "    class_indices = np.where(y_train == class_label)[0]\n",
    "    class_samples = smoothed_sensor_data_train[class_indices]\n",
    "\n",
    "    # Compute DTW scores for the current class\n",
    "    dtw_scores = compute_dtw_scores(test_sample, class_samples, distance_func=dtw)\n",
    "\n",
    "    # Print the DTW scores for the current class\n",
    "    print(f\"DTW scores for class {class_label}: {dtw_scores}\")\n"
   ]
  },
  {
   "cell_type": "markdown",
   "id": "90ef9bfc-52df-42b5-bab3-9fda263296b5",
   "metadata": {},
   "source": [
    "b)"
   ]
  },
  {
   "cell_type": "code",
   "execution_count": 17,
   "id": "f81955e6",
   "metadata": {},
   "outputs": [
    {
     "name": "stdout",
     "output_type": "stream",
     "text": [
      "Predicted class for test sample 0: 3\n"
     ]
    }
   ],
   "source": [
    "from sklearn.neighbors import KNeighborsClassifier\n",
    "\n",
    "# Reshape the data to use it with k-NN classifier\n",
    "X_train_reshaped = smoothed_sensor_data_train.reshape(smoothed_sensor_data_train.shape[0], -1)\n",
    "X_test_reshaped = smoothed_sensor_data_test.reshape(smoothed_sensor_data_test.shape[0], -1)\n",
    "\n",
    "# Choose the number of neighbors for k-NN\n",
    "n_neighbors = 3  # You can adjust this parameter\n",
    "\n",
    "# Initialize k-NN classifier with DTW distance metric\n",
    "knn_classifier = KNeighborsClassifier(n_neighbors=n_neighbors, metric=dtw)\n",
    "\n",
    "# Train the classifier\n",
    "knn_classifier.fit(X_train_reshaped, y_train)\n",
    "\n",
    "# Function to predict class for a given test sample index\n",
    "def predict_class(test_index):\n",
    "    predicted_class = knn_classifier.predict(X_test_reshaped[test_index].reshape(1, -1))\n",
    "    return predicted_class[0]\n",
    "\n",
    "# Example usage for predicting class of the first test sample\n",
    "predicted_class = predict_class(0)\n",
    "print(f\"Predicted class for test sample 0: {predicted_class}\")\n"
   ]
  },
  {
   "cell_type": "code",
   "execution_count": 18,
   "id": "335ba175-ae08-486e-b250-d0dc7e734cd3",
   "metadata": {},
   "outputs": [
    {
     "name": "stdout",
     "output_type": "stream",
     "text": [
      "Predicted class for test sample 1: 3\n"
     ]
    }
   ],
   "source": [
    "from sklearn.neighbors import KNeighborsClassifier\n",
    "\n",
    "# Reshape the data to use it with k-NN classifier\n",
    "X_train_reshaped = smoothed_sensor_data_train.reshape(smoothed_sensor_data_train.shape[0], -1)\n",
    "X_test_reshaped = smoothed_sensor_data_test.reshape(smoothed_sensor_data_test.shape[0], -1)\n",
    "\n",
    "# Choose the number of neighbors for k-NN\n",
    "n_neighbors = 3  # You can adjust this parameter\n",
    "\n",
    "# Initialize k-NN classifier with DTW distance metric\n",
    "knn_classifier = KNeighborsClassifier(n_neighbors=n_neighbors, metric=dtw)\n",
    "\n",
    "# Train the classifier\n",
    "knn_classifier.fit(X_train_reshaped, y_train)\n",
    "\n",
    "# Function to predict class for a given test sample index\n",
    "def predict_class(test_index):\n",
    "    predicted_class = knn_classifier.predict(X_test_reshaped[test_index].reshape(1, -1))\n",
    "    return predicted_class[0]\n",
    "\n",
    "# Example usage for predicting class of the first test sample\n",
    "predicted_class = predict_class(1)\n",
    "print(f\"Predicted class for test sample 1: {predicted_class}\")\n"
   ]
  },
  {
   "cell_type": "code",
   "execution_count": 20,
   "id": "1a55aa0b-ce12-485a-8b20-10667405a074",
   "metadata": {},
   "outputs": [],
   "source": [
    "#from sklearn.neighbors import KNeighborsClassifier\n",
    "\n",
    "# Reshape the data to use it with k-NN classifier\n",
    "#X_train_reshaped = smoothed_sensor_data_train.reshape(smoothed_sensor_data_train.shape[0], -1)\n",
    "#X_test_reshaped = smoothed_sensor_data_test.reshape(smoothed_sensor_data_test.shape[0], -1)\n",
    "\n",
    "# Choose the number of neighbors for k-NN\n",
    "#n_neighbors = 3  # You can adjust this parameter\n",
    "\n",
    "# Initialize k-NN classifier with DTW distance metric\n",
    "#knn_classifier = KNeighborsClassifier(n_neighbors=n_neighbors, metric=dtw)\n",
    "\n",
    "# Train the classifier\n",
    "#knn_classifier.fit(X_train_reshaped, y_train)\n",
    "\n",
    "# Function to predict class for a given test sample index\n",
    "#def predict_class(test_index):\n",
    "    #predicted_class = knn_classifier.predict(X_test_reshaped[test_index].reshape(1, -1))\n",
    "    #return predicted_class[0]\n",
    "\n",
    "# Example usage for predicting class of the first test sample\n",
    "#predicted_class = predict_class(2)\n",
    "#print(f\"Predicted class for test sample 2: {predicted_class}\")"
   ]
  },
  {
   "cell_type": "markdown",
   "id": "fc297003",
   "metadata": {},
   "source": [
    "## **Evaluation:** \n",
    "From the prediction on the test set obtained after DTW, compute the confusion matrix that counts the number of well-ranked and poorly-ranked data.\n",
    "\n",
    "Analyse the results (accuracy, execution time, ...)"
   ]
  },
  {
   "cell_type": "code",
   "execution_count": 45,
   "id": "970ad445",
   "metadata": {},
   "outputs": [
    {
     "name": "stdout",
     "output_type": "stream",
     "text": [
      "Matrice de confusion par DTW\n",
      "Score de classification\n"
     ]
    }
   ],
   "source": [
    "# TODO\n",
    "\n",
    "# Evaluation des résultats par matrices de confusion \n",
    "from sklearn.metrics import accuracy_score\n",
    "from sklearn.metrics import confusion_matrix\n",
    "\n",
    "print('Matrice de confusion par DTW')\n",
    "\n",
    "# Score de performance\n",
    "print('Score de classification')\n",
    "#print('Accuracy sur base de test :',accuracy_score(PartitionDTW[:,0],PartitionDTW[:,1]))"
   ]
  },
  {
   "cell_type": "code",
   "execution_count": null,
   "id": "66a459d7-c8c9-44a4-b64e-6c3149578f9e",
   "metadata": {},
   "outputs": [],
   "source": [
    "from sklearn.metrics import accuracy_score, confusion_matrix\n",
    "import time\n",
    "\n",
    "# Function to predict class for all test samples\n",
    "def predict_all_classes(X_test_reshaped):\n",
    "    return knn_classifier.predict(X_test_reshaped)\n",
    "\n",
    "# Reshape the data to use it with k-NN classifier\n",
    "X_train_reshaped = smoothed_sensor_data_train.reshape(smoothed_sensor_data_train.shape[0], -1)\n",
    "X_test_reshaped = smoothed_sensor_data_test.reshape(smoothed_sensor_data_test.shape[0], -1)\n",
    "\n",
    "# Record the start time for execution time analysis\n",
    "start_time = time.time()\n",
    "\n",
    "# Predict classes for all test samples\n",
    "predicted_classes = predict_all_classes(X_test_reshaped)\n",
    "\n",
    "# Calculate execution time\n",
    "execution_time = time.time() - start_time\n",
    "print(f\"Execution time for k-NN prediction: {execution_time} seconds\")\n",
    "\n",
    "# Compute confusion matrix\n",
    "conf_matrix = confusion_matrix(y_test, predicted_classes)\n",
    "\n",
    "# Print confusion matrix\n",
    "print(\"Confusion Matrix:\")\n",
    "print(conf_matrix)\n",
    "\n",
    "# Calculate accuracy\n",
    "accuracy = accuracy_score(y_test, predicted_classes)\n",
    "print(f\"Accuracy on the test set: {accuracy}\")\n"
   ]
  },
  {
   "cell_type": "markdown",
   "id": "a86cd243-ddc7-45ca-8f28-5ea72143d537",
   "metadata": {},
   "source": [
    "***Conclusion***\n",
    "\n",
    "In this project, we aimed to predict human activities using different sensors like accelerometers and gyroscopes. We implemented a recognition system using Dynamic Time Warping (DTW) and a k-NN classifier. \n",
    "However, we weren't able to evaluate our model by doing the confusion matrix since the program was taking too long to run (even though we reduced the dataset). \n"
   ]
  },
  {
   "cell_type": "markdown",
   "id": "c0d70e84",
   "metadata": {},
   "source": [
    "# Part II: Comparison of dynamic programming with a neural network classification method after PCA dimension reduction\n",
    "\n",
    "In this section, we will compare the results of DTW with those of a data classification method: neural networks (Multi-Layer Perceptron).\n",
    "\n",
    "We'll be using the functions for calculating PCA and MLPClassifier via the *scikit-learn* python library."
   ]
  },
  {
   "cell_type": "code",
   "execution_count": 2,
   "id": "613b4dac",
   "metadata": {},
   "outputs": [],
   "source": [
    "import sklearn\n",
    "from sklearn.preprocessing import StandardScaler\n",
    "from sklearn.neighbors import KNeighborsClassifier\n",
    "from mpl_toolkits.mplot3d import Axes3D\n",
    "from sklearn.decomposition import PCA"
   ]
  },
  {
   "cell_type": "markdown",
   "id": "5b33eb99",
   "metadata": {},
   "source": [
    "### PCA pre-processing\n",
    "\n",
    "\n",
    "To test another classification method, \n",
    "\n",
    "\n",
    "1. From the Data_App data in the training database, and using the *PCA* function in the *scikit-learn* library, calculate the $p$ principal axes of the PCA by\n",
    "extracting the $p$ eigenvectors, denoted $X_1$, $X_2$,..., $X_p$, associated with the $p$ largest eigenvalues of the variance-covariance matrix\n",
    "variance-covariance matrix $\\Sigma_{App}$. These eigenvectors will form the new database.\n",
    "\n",
    "\n",
    "2. Project the data from the training and test database into this new database by multiplying each vector\n",
    "vector by the base $P = [X_1X_2...X_p]$.\n",
    "\n",
    "\n",
    "*Note:* you can also implement PCA by extracting the\n",
    "extracting the $p$ eigenvectors, denoted $X_1$, $X_2$,... $X_p$, associated with the $p$ largest eigenvalues of the\n",
    "variance-covariance matrix $\\Sigma_{App}$ (by the functions *np.cov* and *np.linalg.eig*). These eigenvectors will form the new frame P. Then project the data from the training and test frames into this new frame by multiplying each vector by the frame $P = [X_1X_2..X_p]$."
   ]
  },
  {
   "cell_type": "code",
   "execution_count": null,
   "id": "871f3d7b",
   "metadata": {},
   "outputs": [],
   "source": [
    "# TODO"
   ]
  },
  {
   "cell_type": "markdown",
   "id": "27000e5e",
   "metadata": {},
   "source": [
    "### Classification using neural networks\n",
    "1. Classification using neural networks\n",
    "2. Evaluate results using confusion matrix, loss function, etc.\n",
    "3. Test different architectures and solvers: train on the training set and compute score on the test set\n",
    "\n",
    "Analyse the results (accuracy, execution time, ...)"
   ]
  },
  {
   "cell_type": "markdown",
   "id": "99145ad3",
   "metadata": {},
   "source": [
    "We will use the library **sklearn.model_selection** to develop ANN of type Multi Layer Perceptron (MLP). We use the class: MLPClassifier.\n",
    "\n",
    "<img src=\"https://rasbt.github.io/mlxtend/user_guide/classifier/NeuralNetMLP_files/neuralnet_mlp_1.png\" alt=\"MLP example\" />\n",
    "\n",
    "This model optimizes the cross entropy function (loss function) and a gradient based method.\n",
    "The main parameters of this class are:\n",
    "- **hidden_layer_sizes** is a tuple that specifies the number of neurons in each hidden layer; from the entrance to the exit. For example, a unique hidden layer of 55 neurons, hidden_layer_sizes = (55); for three hidden layers of size respectively 50, 12 and 100 neurons, hidden_layer_sizes = (50, 12, 100).\n",
    "- **activation** defines the activation function for hidden layers: {\"identity\", \"logistic\", \"tanh\", \"relu\"}, default \"relu\"\n",
    "    - ‘identity’, no-op activation, linear bottleneck, returns f(x) = x\n",
    "    - ‘logistic’, logistic sigmoid function, returns f(x) = 1 / (1 + exp(-x)).\n",
    "    - ‘tanh’, hyperbolic tan function, returns f(x) = tanh(x).\n",
    "    - ‘relu’, rectified linear unit function, returns f(x) = max(0, x)\n",
    "- **solver** {\"lbfgs\", \"sgd\", \"adam\"} specifies the algorithm used to minimize the output loss function. \"Adam\" is implemented by default for large databases. For small databases, ‘lbfgs’ may converge better.\n",
    "- **alpha** default value=0.0001: is the magnitude of the L2 regularization. It is a method of regulation (to prevent overfitting) whose purpose is to penalize heavy weights. We add the penalty to the cost function.\n",
    "- **max iter**, default =200, indicates the max number of iterations of the solver.\n",
    "- **tol** , default 1e-4: is a tolerance factor that allows the solver to be stopped early when there is no improvement.\n",
    "- **Verbose** bool, default=’False’ : change to “True” to print progress messages to stdout.\n",
    "- **warm_start** bool, default=’False’: When set to True, reuse the solution of the previous call to fit as initialization, otherwise, just erase the previous solution.\n",
    "- **early_stopping** bool, default=’False’: Whether to use early stopping to terminate training when validation score is not improving (prevent overfitting). If set to true, it will automatically set aside 10% of training data as validation and terminate training when validation score is not improving by at least tol for n_iter_no_change consecutive epochs. The split is stratified, except in a multilabel setting. If early stopping is False, then the training stops when the training loss does not improve by more than tol for n_iter_no_change consecutive passes over the training set. Only effective when solver=’sgd’ or ‘adam’.\n",
    "- **validation_fraction** float, default=0.1 The proportion of training data to set aside as validation set for early stopping. Must be between 0 and 1. Only used if early_stopping is True.\n",
    "- **n_iter_no_change** int, default=10: Maximum number of epochs to not meet tol improvement. Only effective when solver=’sgd’ or ‘adam’.\n",
    "\n",
    "The main commands are:\n",
    "- mlp = MLPClassifier(hidden_layer_sizes=(20, 20, 10,), max_iter=300, activation='relu', solver='adam', random_state=42)\n",
    "- mlp.fit(xtrain, ytrain)\n",
    "- ypred = mlp.predict(xtest)\n",
    "\n",
    "Accuracy of the model can eventually be computed using the library **sklearn.metrics** and the commands:\n",
    "- Score: accuracy_score(y_test, y_pred)\n",
    "- Report: classification_report(y_test, y_pred))\n",
    "\n",
    "The usual sklearn learning and testing functions are as follows: (**fit**, **predict**, **score**)."
   ]
  },
  {
   "cell_type": "code",
   "execution_count": 5,
   "id": "4294f0ff",
   "metadata": {},
   "outputs": [],
   "source": [
    "from sklearn.neural_network import MLPClassifier"
   ]
  },
  {
   "cell_type": "code",
   "execution_count": null,
   "id": "86309020",
   "metadata": {},
   "outputs": [],
   "source": [
    "# TODO"
   ]
  },
  {
   "cell_type": "markdown",
   "id": "6ce0f1a6",
   "metadata": {},
   "source": []
  },
  {
   "cell_type": "markdown",
   "id": "383dba78",
   "metadata": {},
   "source": []
  },
  {
   "cell_type": "markdown",
   "id": "35ca0e1b",
   "metadata": {},
   "source": []
  },
  {
   "cell_type": "markdown",
   "id": "db991ee5",
   "metadata": {},
   "source": [
    "# Partie III (Bonus): reduction of the training basis by k-medoids to optimize classification by k-NN with DTW as similarity measure\n",
    "\n",
    "For each class of activity\n",
    "a) Compute medoids using *k-medoids* from the scikit-learn library with DTW as similarity measure.\n",
    "\n",
    "b) Vary the parameter k and observe the evolution of the *silhouette score*: select the best by the elbow method\n",
    "\n",
    "c) Replace the samples with the medoids found from the best k parameter\n",
    "\n",
    "Finally, run the k-NN algorithm for classification and evaluate as before: the only change is that your training set has been replaced"
   ]
  },
  {
   "cell_type": "markdown",
   "id": "5fc251d7",
   "metadata": {},
   "source": [
    "**Information:**\n",
    "We use the KMedoids (kM) method: this is an unsupervised approach which clusters your data in k groups such that a similarity measure is:\n",
    "- minimized inside each group\n",
    "- maximized inside between groups\n",
    "We obtain for each group a centroid (or medoid) which is at the center and thus represents best the group (w.r.t. the similarity measure).\n",
    "\n",
    "The algorithm kM is implemented in a package called **sklearn_extra.cluster**.\n",
    "Here are the main commands:\n",
    "- The line **clf = sklearn_extra.cluster.KMedoids(n_clusters=k)** creates an object of type classifier based on the n_neighbors closest neighbors,\n",
    "- The instruction clf.fit(X, y) uses the data to define the classifier (training),\n",
    "- The command **clf.predict()** is used to classify the new examples,\n",
    "- The command **clf.predict_proba()** allows to estimate the probability of the proposed classification,\n",
    "- The command **clf.score(xtest, ytest)** computes the global score of the classifier for a given dataset.\n",
    "\n",
    "<img src=\"https://scikit-learn-extra.readthedocs.io/en/stable/_images/sphx_glr_plot_kmedoids_digits_001.png\" alt=\"k-Medoids example\" />\n",
    "\n",
    "KMedoids takes as argument *metrics* which can be your DTW function.\n",
    "\n",
    "The silhouette score is then a measure of the quality of your clustering, and is implemented as the function silhouette_score in a package called **sklearn.metrics**."
   ]
  },
  {
   "cell_type": "code",
   "execution_count": null,
   "id": "31be8c18",
   "metadata": {},
   "outputs": [],
   "source": [
    "# TODO (Bonus)"
   ]
  }
 ],
 "metadata": {
  "kernelspec": {
   "display_name": "Python 3 (ipykernel)",
   "language": "python",
   "name": "python3"
  },
  "language_info": {
   "codemirror_mode": {
    "name": "ipython",
    "version": 3
   },
   "file_extension": ".py",
   "mimetype": "text/x-python",
   "name": "python",
   "nbconvert_exporter": "python",
   "pygments_lexer": "ipython3",
   "version": "3.8.18"
  }
 },
 "nbformat": 4,
 "nbformat_minor": 5
}
