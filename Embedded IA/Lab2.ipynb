{
 "cells": [
  {
   "cell_type": "markdown",
   "metadata": {},
   "source": [
    "# Lab2 (5IR - 2024): Fall Detection - Supervised learning\n",
    "\n",
    "**Group name (2 people !):** A2\n",
    "\n",
    "**Names:** BOUZERGAN & HOUSNI\n",
    "\n",
    "**First names:** Kenza & Lamiaa\n"
   ]
  },
  {
   "cell_type": "markdown",
   "metadata": {},
   "source": [
    "**Introduction :**\n",
    "\n",
    "In this lab, our main objectives were to develop a fall detection system using artificial neural networks, with a focus on convolutional neural networks (CNNs). We will use TensorFlow, a powerful deep learning framework, to create an efficient CNN architecture for the fall detection dataset CAUCA. The lab involved studying the architecture of neural networks, exploring the sensitivity of key parameters, and leveraging TensorFlow Lite to compress the CNN, making it suitable for deployment on resource-constrained devices. "
   ]
  },
  {
   "cell_type": "code",
   "execution_count": 9,
   "metadata": {},
   "outputs": [
    {
     "name": "stdout",
     "output_type": "stream",
     "text": [
      "Collecting tensorflow_model_optimization\n",
      "  Using cached tensorflow_model_optimization-0.7.5-py2.py3-none-any.whl.metadata (914 bytes)\n",
      "Requirement already satisfied: absl-py~=1.2 in /Users/lamiaahousni/opt/anaconda3/envs/TensorFlow/lib/python3.8/site-packages (from tensorflow_model_optimization) (1.4.0)\n",
      "Collecting dm-tree~=0.1.1 (from tensorflow_model_optimization)\n",
      "  Downloading dm_tree-0.1.8-cp38-cp38-macosx_10_9_x86_64.whl (115 kB)\n",
      "\u001b[2K     \u001b[90m━━━━━━━━━━━━━━━━━━━━━━━━━━━━━━━━━━━━━\u001b[0m \u001b[32m115.4/115.4 kB\u001b[0m \u001b[31m850.5 kB/s\u001b[0m eta \u001b[36m0:00:00\u001b[0m00:01\u001b[0m00:01\u001b[0m\n",
      "\u001b[?25hRequirement already satisfied: numpy~=1.23 in /Users/lamiaahousni/opt/anaconda3/envs/TensorFlow/lib/python3.8/site-packages (from tensorflow_model_optimization) (1.23.5)\n",
      "Requirement already satisfied: six~=1.14 in /Users/lamiaahousni/opt/anaconda3/envs/TensorFlow/lib/python3.8/site-packages (from tensorflow_model_optimization) (1.16.0)\n",
      "Using cached tensorflow_model_optimization-0.7.5-py2.py3-none-any.whl (241 kB)\n",
      "Installing collected packages: dm-tree, tensorflow_model_optimization\n",
      "Successfully installed dm-tree-0.1.8 tensorflow_model_optimization-0.7.5\n"
     ]
    }
   ],
   "source": [
    "!pip install tensorflow_model_optimization"
   ]
  },
  {
   "cell_type": "code",
   "execution_count": 1,
   "metadata": {},
   "outputs": [
    {
     "name": "stderr",
     "output_type": "stream",
     "text": [
      "2024-01-29 18:38:27.380505: I tensorflow/core/platform/cpu_feature_guard.cc:182] This TensorFlow binary is optimized to use available CPU instructions in performance-critical operations.\n",
      "To enable the following instructions: SSE4.1 SSE4.2 AVX AVX2 AVX512F AVX512_VNNI FMA, in other operations, rebuild TensorFlow with the appropriate compiler flags.\n"
     ]
    }
   ],
   "source": [
    "from six.moves import cPickle as pickle\n",
    "import numpy as np\n",
    "import matplotlib.pyplot as plt\n",
    "import random\n",
    "import cv2\n",
    "import seaborn as sns\n",
    "import numpy as np\n",
    "import tempfile\n",
    "import os\n",
    "import zipfile\n",
    "import math\n",
    "# Scikit-learn\n",
    "from sklearn.metrics import accuracy_score, confusion_matrix\n",
    "# TensorFlow\n",
    "import tensorflow as tf\n",
    "from tensorflow.keras.datasets import mnist\n",
    "from tensorflow.keras.models import Sequential, save_model, clone_model\n",
    "from tensorflow.keras.layers import Dense, Conv2D, Flatten, MaxPooling2D, BatchNormalization\n",
    "from tensorflow.keras.utils import to_categorical\n",
    "from tensorflow.keras.saving import load_model\n",
    "from sklearn.model_selection import train_test_split\n",
    "# TensorFlow Optimization\n",
    "import tensorflow_model_optimization as tfmot\n",
    "from tensorflow_model_optimization.sparsity.keras import prune_low_magnitude, PolynomialDecay, UpdatePruningStep, ConstantSparsity"
   ]
  },
  {
   "cell_type": "markdown",
   "metadata": {},
   "source": [
    "# 1. Classification of the CAUCA dataset using Convolutional Neural Netowrks (CNN)\n",
    "\n",
    "TensorFlow is an open-source machine learning library developed by Google, primarily used for deep learning applications. It provides a comprehensive, flexible ecosystem of tools, libraries, and community resources that enables researchers to develop and deploy machine learning powered applications easily. We use the Python version of the library which can be installed in Python with:\n",
    "*pip install tensorflow*\n",
    "\n",
    "We will use the library **tensorflow.keras** to develop ANN of type Convolutional Neural Netowrks (CNN). We use the generic class **Sequential** combined with layers of types:\n",
    "- **Conv2D**,\n",
    "- **MaxPooling2D**,\n",
    "- **BatchNormalization**,\n",
    "- **Dropout**,\n",
    "- **Flatten**,\n",
    "- **Dense**.\n",
    "\n",
    "<img src=\"https://miro.medium.com/v2/resize:fit:1400/1*uAeANQIOQPqWZnnuH-VEyw.jpeg\" alt=\"CNN example\" />\n",
    "\n",
    "The documentation for the Tensorflow layers is available at https://www.tensorflow.org/api_docs/python/tf/keras/layers.\n",
    "Since an example is better than 1000 words, below is a fully working example code for a toy classification problem."
   ]
  },
  {
   "cell_type": "markdown",
   "metadata": {},
   "source": [
    "## 1.1 Hand-drawn shapes (HDS) dataset\n",
    "\n",
    "Some datasets are available on the internet (search Google, Kaggle, and scientific articles). Here, we focus on a small example dataset extracted from the repository: https://github.com/frobertpixto/hand-drawn-shapes-dataset/tree/main. This dataset contains 70x70px images (in .png format) in grayscale of hand-drawn shapes. The images can be of 4 classes: ellipse, triangle, rectangle, others. There are around 50 000 images available. Processing codes are available on github to preprocess the pictures, and build a CNN model for classification.\n",
    "\n",
    "<img src=\"https://raw.githubusercontent.com/frobertpixto/hand-drawn-shapes-dataset/main/readme_images/train_images.png\" alt=\"HDS example\" />\n",
    "\n",
    "We have modified the processing code from the repository in order to reduce the dataset for our purpose:\n",
    "- The images are resized to 14x14px,\n",
    "- We only keep the classes ellipse, triangle, and rectangle,\n",
    "- We keep 4 500 images.\n",
    "\n",
    "The dataset is stored in a pickle file which allows to drop Python data structures to a binary file. The structure is a dictionnary with the data X at key \"train_data\", and the labes y at key \"train_labels\":\n",
    "- Storing:\n",
    "*save_to_pickle(*\n",
    "    *\"train.pickle\",*\n",
    "    *{*\n",
    "        *'train_data': train_data,*\n",
    "        *'train_labels': train_labels*\n",
    "    *}*\n",
    "*)*\n",
    "- Loading\n",
    "*with open(\"train.pickle\", 'rb') as file:*\n",
    "    *train_dict = pickle.load(file)*"
   ]
  },
  {
   "cell_type": "markdown",
   "metadata": {},
   "source": [
    "- Load data\n",
    "- N.B.: In the obtained labels y, class 1=\"ellipse\", class 2=\"rectangle\", class 3=\"triangle\""
   ]
  },
  {
   "cell_type": "code",
   "execution_count": 2,
   "metadata": {},
   "outputs": [],
   "source": [
    "with open(\"hds_data.pickle\", 'rb') as file:\n",
    "    train_dict = pickle.load(file)\n",
    "X = train_dict['train_data']\n",
    "y = train_dict['train_labels'] - 1"
   ]
  },
  {
   "cell_type": "code",
   "execution_count": 3,
   "metadata": {},
   "outputs": [
    {
     "name": "stdout",
     "output_type": "stream",
     "text": [
      "Image:  1577\n"
     ]
    },
    {
     "data": {
      "image/png": "[encoded data removed]",
      "text/plain": [
       "<Figure size 640x480 with 1 Axes>"
      ]
     },
     "metadata": {},
     "output_type": "display_data"
    }
   ],
   "source": [
    "ind = random.randint(0, len(X))\n",
    "print(\"Image: \",ind)\n",
    "plt.imshow(X[ind],cmap=plt.cm.gray_r,interpolation=\"nearest\")\n",
    "plt.title(f\"Label: {y[ind]}\")\n",
    "plt.show()"
   ]
  },
  {
   "cell_type": "markdown",
   "metadata": {},
   "source": [
    "- **Split into train and test datasets**"
   ]
  },
  {
   "cell_type": "code",
   "execution_count": 4,
   "metadata": {},
   "outputs": [],
   "source": [
    "xtrain, xtest, ytrain, ytest = train_test_split(X, y, train_size=0.8)\n",
    "\n",
    "# Reshape and normalize the images\n",
    "xtrain = xtrain.reshape((xtrain.shape[0], 14, 14, 1)).astype('float32')\n",
    "xtest = xtest.reshape((xtest.shape[0], 14, 14, 1)).astype('float32')\n",
    "\n",
    "# Convert labels to categorical (one-hot encoding)\n",
    "ytrain = to_categorical(ytrain)\n",
    "ytest = to_categorical(ytest)"
   ]
  },
  {
   "cell_type": "markdown",
   "metadata": {},
   "source": [
    "- **Create the model**"
   ]
  },
  {
   "cell_type": "code",
   "execution_count": 5,
   "metadata": {},
   "outputs": [
    {
     "name": "stdout",
     "output_type": "stream",
     "text": [
      "Model: \"sequential\"\n",
      "_________________________________________________________________\n",
      " Layer (type)                Output Shape              Param #   \n",
      "=================================================================\n",
      " conv2d (Conv2D)             (None, 12, 12, 32)        320       \n",
      "                                                                 \n",
      " batch_normalization (BatchN  (None, 12, 12, 32)       128       \n",
      " ormalization)                                                   \n",
      "                                                                 \n",
      " max_pooling2d (MaxPooling2D  (None, 6, 6, 32)         0         \n",
      " )                                                               \n",
      "                                                                 \n",
      " flatten (Flatten)           (None, 1152)              0         \n",
      "                                                                 \n",
      " dense (Dense)               (None, 32)                36896     \n",
      "                                                                 \n",
      " dense_1 (Dense)             (None, 3)                 99        \n",
      "                                                                 \n",
      "=================================================================\n",
      "Total params: 37,443\n",
      "Trainable params: 37,379\n",
      "Non-trainable params: 64\n",
      "_________________________________________________________________\n"
     ]
    }
   ],
   "source": [
    "# Building the CNN model\n",
    "model = Sequential([\n",
    "    Conv2D(32, kernel_size=(3, 3), activation='relu', input_shape=(14, 14, 1)),\n",
    "    BatchNormalization(),\n",
    "    MaxPooling2D(pool_size=(2, 2)),\n",
    "    Flatten(),\n",
    "    Dense(32, activation='relu'),\n",
    "    Dense(3, activation='softmax')\n",
    "])\n",
    "\n",
    "model.summary()"
   ]
  },
  {
   "cell_type": "markdown",
   "metadata": {},
   "source": [
    "- **Compile and train the model**"
   ]
  },
  {
   "cell_type": "code",
   "execution_count": 6,
   "metadata": {},
   "outputs": [
    {
     "name": "stdout",
     "output_type": "stream",
     "text": [
      "Epoch 1/10\n",
      "29/29 [==============================] - 1s 18ms/step - loss: 0.7667 - accuracy: 0.6628 - val_loss: 1.0415 - val_accuracy: 0.5022\n",
      "Epoch 2/10\n",
      "29/29 [==============================] - 0s 13ms/step - loss: 0.4937 - accuracy: 0.8033 - val_loss: 1.0112 - val_accuracy: 0.5089\n",
      "Epoch 3/10\n",
      "29/29 [==============================] - 0s 15ms/step - loss: 0.3981 - accuracy: 0.8511 - val_loss: 0.9727 - val_accuracy: 0.5267\n",
      "Epoch 4/10\n",
      "29/29 [==============================] - 0s 17ms/step - loss: 0.3370 - accuracy: 0.8711 - val_loss: 0.9316 - val_accuracy: 0.5533\n",
      "Epoch 5/10\n",
      "29/29 [==============================] - 0s 13ms/step - loss: 0.2857 - accuracy: 0.8997 - val_loss: 0.9007 - val_accuracy: 0.5756\n",
      "Epoch 6/10\n",
      "29/29 [==============================] - 0s 15ms/step - loss: 0.2581 - accuracy: 0.9111 - val_loss: 0.8605 - val_accuracy: 0.5478\n",
      "Epoch 7/10\n",
      "29/29 [==============================] - 0s 15ms/step - loss: 0.2249 - accuracy: 0.9175 - val_loss: 0.8068 - val_accuracy: 0.6200\n",
      "Epoch 8/10\n",
      "29/29 [==============================] - 0s 15ms/step - loss: 0.1892 - accuracy: 0.9417 - val_loss: 0.7406 - val_accuracy: 0.7744\n",
      "Epoch 9/10\n",
      "29/29 [==============================] - 0s 15ms/step - loss: 0.1732 - accuracy: 0.9428 - val_loss: 0.6970 - val_accuracy: 0.7144\n",
      "Epoch 10/10\n",
      "29/29 [==============================] - 0s 15ms/step - loss: 0.1443 - accuracy: 0.9572 - val_loss: 0.6552 - val_accuracy: 0.7167\n"
     ]
    }
   ],
   "source": [
    "# Compile the model\n",
    "model.compile(optimizer='adam', loss='categorical_crossentropy', metrics=['accuracy'])\n",
    "\n",
    "# Train the model\n",
    "history = model.fit(xtrain, ytrain, validation_data=(xtest, ytest), epochs=10, batch_size=128)"
   ]
  },
  {
   "cell_type": "markdown",
   "metadata": {},
   "source": [
    "- **TODO: Evaluate the model** (this will help you later):\n",
    "    - display a random image in the test set with its true and predicted labels,\n",
    "    - display the accuracy of the CNN on the train and test sets,\n",
    "    - compute and display the confusion matrix of the model,\n",
    "    - display the evolution of the accuracy over the training iterations of the CNN."
   ]
  },
  {
   "cell_type": "code",
   "execution_count": 7,
   "metadata": {},
   "outputs": [
    {
     "name": "stdout",
     "output_type": "stream",
     "text": [
      "29/29 [==============================] - 0s 2ms/step\n"
     ]
    },
    {
     "data": {
      "image/png": "[encoded data removed]",
      "text/plain": [
       "<Figure size 640x480 with 1 Axes>"
      ]
     },
     "metadata": {},
     "output_type": "display_data"
    },
    {
     "name": "stdout",
     "output_type": "stream",
     "text": [
      "Train Accuracy: 0.7644\n",
      "Test Accuracy: 0.7167\n"
     ]
    },
    {
     "data": {
      "image/png": "[encoded data removed]",
      "text/plain": [
       "<Figure size 600x600 with 2 Axes>"
      ]
     },
     "metadata": {},
     "output_type": "display_data"
    },
    {
     "data": {
      "image/png": "[encoded data removed]",
      "text/plain": [
       "<Figure size 640x480 with 1 Axes>"
      ]
     },
     "metadata": {},
     "output_type": "display_data"
    }
   ],
   "source": [
    "# TODO\n",
    "# Evaluate the model\n",
    "# Predictions\n",
    "y_pred = model.predict(xtest)\n",
    "y_pred_classes = np.argmax(y_pred, axis=1)\n",
    "y_true = np.argmax(ytest, axis=1)\n",
    "\n",
    "# Display a random image with true and predicted labels\n",
    "ind = random.randint(0, len(xtest))\n",
    "plt.imshow(xtest[ind].reshape(14, 14), cmap=plt.cm.gray_r, interpolation=\"nearest\")\n",
    "plt.title(f\"True label: {y_true[ind]+1}, Predicted label: {y_pred_classes[ind]+1}\")\n",
    "plt.show()\n",
    "\n",
    "# Display accuracy on train and test sets\n",
    "_, train_accuracy = model.evaluate(xtrain, ytrain, verbose=0)\n",
    "_, test_accuracy = model.evaluate(xtest, ytest, verbose=0)\n",
    "\n",
    "print(f\"Train Accuracy: {train_accuracy:.4f}\")\n",
    "print(f\"Test Accuracy: {test_accuracy:.4f}\")\n",
    "\n",
    "# Confusion Matrix\n",
    "cm = confusion_matrix(y_true, y_pred_classes)\n",
    "plt.figure(figsize=(6, 6))\n",
    "sns.heatmap(cm, annot=True, fmt=\"d\", cmap=\"Blues\", xticklabels=[\"Ellipse\", \"Rectangle\", \"Triangle\"], yticklabels=[\"Ellipse\", \"Rectangle\", \"Triangle\"])\n",
    "plt.title(\"Confusion Matrix\")\n",
    "plt.xlabel(\"Predicted\")\n",
    "plt.ylabel(\"True\")\n",
    "plt.show()\n",
    "\n",
    "# Accuracy over training iterations\n",
    "plt.plot(history.history['accuracy'], label='Training Accuracy')\n",
    "plt.plot(history.history['val_accuracy'], label='Validation Accuracy')\n",
    "plt.xlabel('Epoch')\n",
    "plt.ylabel('Accuracy')\n",
    "plt.legend()\n",
    "plt.title('Accuracy Over Training Iterations')\n",
    "plt.show()\n"
   ]
  },
  {
   "cell_type": "markdown",
   "metadata": {},
   "source": [
    "- **TODO: Questions:** (this will help you later)\n",
    "\n",
    "    - look at the documentation of Tensorflow (or other) and explain briefly what is the a *Dropout* layer.\n",
    "\n",
    "ANSWER :\n",
    "\n",
    "Dropout is a regularization technique used in neural networks to prevent overfitting. In a dropout layer, a random subset of units (neurons) in the layer are \"dropped out\" during training, meaning their contributions to the forward pass and backward pass are set to zero. This helps prevent the network from relying too much on specific neurons and promotes more robust learning.\n",
    "\n",
    "    - what does the *to_categorical* function do and why do we modify the labels (ground truth) with it ?\n",
    "      \n",
    "ANSWER :\n",
    "\n",
    "The to_categorical is used to convert class labels (integers) to one-hot encoded vectors. One-hot encoding is a binary matrix representation of the class labels, where each row corresponds to a sample, and each column corresponds to a class. The column corresponding to the true class is marked with a 1, and others are marked with 0.\n",
    "Neural networks often use categorical crossentropy as a loss function, which requires one-hot encoded labels. The to_categorical function simplifies this conversion process, ensuring that the labels are in the appropriate format for training a neural network.\n",
    "\n",
    "    - what is contained in the prediction for any example ?\n",
    "\n",
    "ANSWER : \n",
    "\n",
    "The prediction for any example is typically a vector of probabilities. The class with the highest probability is considered the predicted class for that example. This vector can be obtained using the predict method of the model."
   ]
  },
  {
   "cell_type": "markdown",
   "metadata": {},
   "source": [
    "## 1.2 Classification of the CAUCA dataset\n",
    "\n",
    "Goal: adapt the example of the HDS dataset classification above to build a performant classifier for the CAUCA dataset. Be creative and do not hesitate to explore CNN architectures !"
   ]
  },
  {
   "cell_type": "markdown",
   "metadata": {},
   "source": [
    "For example, you can implement the CNN architecture shown above in the picture of the part 2 on CNN."
   ]
  },
  {
   "cell_type": "markdown",
   "metadata": {},
   "source": [
    "### CAUCA fall detection dataset\n",
    "\n",
    "The CAUCA dataset is avalaible at:\n",
    "https://data.mendeley.com/datasets/7w7fccy7ky/4\n",
    "The dataset of falls contains data from 10 different activities: Fall backwards, fall forward, fall left, fall right, fall sitting, hop, kneel, pick up object, sit down, walk.\n",
    "The 20000 labelled images were obtained from videos taken in conditions of an uncontrolled home environment (occlusions, lights, clothes, etc.).\n",
    "Each of the 10 subjects had to follow a specific protocol, containing the 10 different \"activities\".\n",
    "\n",
    "<img src=\"CAUCA_ex.jpeg\" alt=\"HDS example\" />\n",
    "\n",
    "We have preprocessed the images for a better classification:\n",
    "- A YOLO model was used to segment the person in each picture, resulting in square images of size ranging between 200 and 350,\n",
    "- The images were resized to be 96 × 96 or 224 x 224,\n",
    "- Labels are merged to get : fall vs. non-fall activity.\n",
    "\n",
    "The datasets are stored in pickle file which allows to drop Python data structures to a binary file. The structure is a dictionnary with the data X at key \"train_data\", and the labes y at key \"train_labels\":\n",
    "- Storing:\n",
    "*save_to_pickle(*\n",
    "    *\"train.pickle\",*\n",
    "    *{*\n",
    "        *'train_data': train_data,*\n",
    "        *'train_labels': train_labels,*\n",
    "        *'width': width,*\n",
    "        *'height': height,*\n",
    "        *'channels': channels*\n",
    "    *}*\n",
    "*)*\n",
    "- Loading\n",
    "*with open(\"train.pickle\", 'rb') as file:*\n",
    "    *train_dict = pickle.load(file)*\n",
    "\n",
    "Four sets are available\n",
    "- Training set (data_train_w_h_c.pickle): images of subjects 1-8,\n",
    "- Final est set (data_test_w_h_c.pickle): images of subjects 9 and 10."
   ]
  },
  {
   "attachments": {},
   "cell_type": "markdown",
   "metadata": {},
   "source": [
    "- **TODO: Explore the training data of images 96 x 96 px**\n",
    "    - load the data from the corresponding pickle file\n",
    "    - display an image of the train set for each label (0: non-fall, 1: fall) and display the label\n",
    "    - split the data into train and validation set\n",
    "    - transform the labels with *to_categorical*\n",
    "    "
   ]
  },
  {
   "cell_type": "code",
   "execution_count": 16,
   "metadata": {},
   "outputs": [],
   "source": [
    "# TODO\n",
    "#Load data\n",
    "\n",
    "with open(\"data_train_96_96_3.pickle\", 'rb') as file:\n",
    "    train_dict = pickle.load(file)\n",
    "X = train_dict['data']\n",
    "y = train_dict['labels'] "
   ]
  },
  {
   "cell_type": "code",
   "execution_count": 17,
   "metadata": {},
   "outputs": [
    {
     "name": "stdout",
     "output_type": "stream",
     "text": [
      "Image:  3632\n"
     ]
    },
    {
     "data": {
      "image/png": "[encoded data removed]",
      "text/plain": [
       "<Figure size 640x480 with 1 Axes>"
      ]
     },
     "metadata": {},
     "output_type": "display_data"
    }
   ],
   "source": [
    "#Display image\n",
    "\n",
    "ind = random.randint(0, len(X))\n",
    "\n",
    "print(\"Image: \",ind)\n",
    "\n",
    "plt.imshow(X[ind],cmap=plt.cm.gray_r,interpolation=\"nearest\")\n",
    "\n",
    "plt.title(f\"Label : {y[ind]}\")\n",
    "\n",
    "plt.show()"
   ]
  },
  {
   "cell_type": "code",
   "execution_count": 18,
   "metadata": {},
   "outputs": [],
   "source": [
    "#Split the data\n",
    "\n",
    "xtrain, xtest, ytrain, ytest = train_test_split(X, y, train_size=0.8)\n",
    "\n",
    "# Reshape and normalize the images\n",
    "xtrain = xtrain.reshape((xtrain.shape[0], 96, 96, 3)).astype('float32')\n",
    "xtest = xtest.reshape((xtest.shape[0], 96, 96, 3)).astype('float32')\n",
    "\n",
    "\n",
    "\n",
    "# Convert labels to categorical (one-hot encoding)\n",
    "ytrain = to_categorical(ytrain)\n",
    "ytest = to_categorical(ytest)"
   ]
  },
  {
   "cell_type": "markdown",
   "metadata": {},
   "source": [
    "- **TODO: Questions:**\n",
    "    - which activation function is generally used for CNN ?\n",
    "\n",
    "ANSWER : \n",
    "\n",
    "The Rectified Linear Unit (ReLU) activation function is commonly used in Convolutional Neural Networks (CNNs). ReLU introduces non-linearity to the network by setting all negative values to zero and leaving positive values unchanged. ReLU is popular due to its simplicity and effectiveness in training deep neural networks.\n",
    "\n",
    "    - what purpose serve the BatchNormalisation layer ?\n",
    "\n",
    "ANSWER : \n",
    "\n",
    "Batch normalization is a technique used to stabilize the training of deep neural networks, including object detection models, It reduces internal covariate shift, accelerates training, and reduces the need for dropout.\n",
    "Batch normalization is applied to the activations of convolutional layers in object detection models, improving accuracy and robustness.\n",
    "\n",
    "\n",
    "\n",
    "- **TODO: Build a CNN classifier for fall detection**\n",
    "    - Construct as a *Sequential* model the CNN which structure is given as an image in introduction with n1=n2=32, n3=64.\n",
    "    - Show the number of parameters, and compile the model"
   ]
  },
  {
   "cell_type": "code",
   "execution_count": 19,
   "metadata": {},
   "outputs": [
    {
     "name": "stdout",
     "output_type": "stream",
     "text": [
      "Model: \"sequential_2\"\n",
      "_________________________________________________________________\n",
      " Layer (type)                Output Shape              Param #   \n",
      "=================================================================\n",
      " conv2d_4 (Conv2D)           (None, 94, 94, 32)        896       \n",
      "                                                                 \n",
      " batch_normalization_4 (Batc  (None, 94, 94, 32)       128       \n",
      " hNormalization)                                                 \n",
      "                                                                 \n",
      " max_pooling2d_4 (MaxPooling  (None, 47, 47, 32)       0         \n",
      " 2D)                                                             \n",
      "                                                                 \n",
      " conv2d_5 (Conv2D)           (None, 45, 45, 32)        9248      \n",
      "                                                                 \n",
      " batch_normalization_5 (Batc  (None, 45, 45, 32)       128       \n",
      " hNormalization)                                                 \n",
      "                                                                 \n",
      " max_pooling2d_5 (MaxPooling  (None, 22, 22, 32)       0         \n",
      " 2D)                                                             \n",
      "                                                                 \n",
      " conv2d_6 (Conv2D)           (None, 20, 20, 64)        18496     \n",
      "                                                                 \n",
      " batch_normalization_6 (Batc  (None, 20, 20, 64)       256       \n",
      " hNormalization)                                                 \n",
      "                                                                 \n",
      " max_pooling2d_6 (MaxPooling  (None, 10, 10, 64)       0         \n",
      " 2D)                                                             \n",
      "                                                                 \n",
      " flatten_2 (Flatten)         (None, 6400)              0         \n",
      "                                                                 \n",
      " dense_4 (Dense)             (None, 128)               819328    \n",
      "                                                                 \n",
      " dense_5 (Dense)             (None, 2)                 258       \n",
      "                                                                 \n",
      "=================================================================\n",
      "Total params: 848,738\n",
      "Trainable params: 848,482\n",
      "Non-trainable params: 256\n",
      "_________________________________________________________________\n"
     ]
    }
   ],
   "source": [
    "# TODO\n",
    "\n",
    "# Building the CNN model\n",
    "model = Sequential([\n",
    "    Conv2D(32, kernel_size=(3, 3), activation='relu', input_shape=(96, 96, 3)),\n",
    "    BatchNormalization(),\n",
    "    MaxPooling2D(pool_size=(2, 2)),\n",
    "    \n",
    "    Conv2D(32, kernel_size=(3, 3), activation='relu'),\n",
    "    BatchNormalization(),\n",
    "    MaxPooling2D(pool_size=(2, 2)),\n",
    "    \n",
    "    Conv2D(64, kernel_size=(3, 3), activation='relu'),\n",
    "    BatchNormalization(),\n",
    "    MaxPooling2D(pool_size=(2, 2)),\n",
    "    \n",
    "    Flatten(),\n",
    "    Dense(128, activation='relu'),\n",
    "    Dense(2, activation='softmax')  # Binary classification (fall or non-fall)\n",
    "])\n",
    "\n",
    "# Display the number of parameters\n",
    "model.summary()"
   ]
  },
  {
   "cell_type": "markdown",
   "metadata": {},
   "source": [
    "- **Training the model**\n",
    "    - Actual training = fit with 5 epochs (can take some time depending on your architecture),\n",
    "    - Do not forget to pass the argument *validation_data*,\n",
    "    - Store the outputs (*history*) !"
   ]
  },
  {
   "cell_type": "code",
   "execution_count": 20,
   "metadata": {},
   "outputs": [
    {
     "name": "stdout",
     "output_type": "stream",
     "text": [
      "Epoch 1/5\n",
      "158/158 [==============================] - 64s 398ms/step - loss: 0.1207 - accuracy: 0.9684 - val_loss: 0.4337 - val_accuracy: 0.9056\n",
      "Epoch 2/5\n",
      "158/158 [==============================] - 69s 437ms/step - loss: 0.0135 - accuracy: 0.9956 - val_loss: 0.0429 - val_accuracy: 0.9921\n",
      "Epoch 3/5\n",
      "158/158 [==============================] - 69s 439ms/step - loss: 0.0168 - accuracy: 0.9948 - val_loss: 0.0731 - val_accuracy: 0.9810\n",
      "Epoch 4/5\n",
      "158/158 [==============================] - 79s 502ms/step - loss: 0.0125 - accuracy: 0.9968 - val_loss: 0.2261 - val_accuracy: 0.9611\n",
      "Epoch 5/5\n",
      "158/158 [==============================] - 81s 516ms/step - loss: 0.0243 - accuracy: 0.9942 - val_loss: 0.4639 - val_accuracy: 0.9381\n"
     ]
    }
   ],
   "source": [
    "# TODO\n",
    "\n",
    "# Compile the model\n",
    "model.compile(optimizer='adam', loss='categorical_crossentropy', metrics=['accuracy'])\n",
    "\n",
    "# Train the model\n",
    "history = model.fit(xtrain, ytrain, validation_data=(xtest, ytest), epochs=5, batch_size=32)\n"
   ]
  },
  {
   "cell_type": "markdown",
   "metadata": {},
   "source": [
    "- **TODO: Evaluate the model:**\n",
    "    - display the evolution of the accuracy over the training iterations of the CNN\n",
    "    - display the accuracy of the model on the train and validation sets,\n",
    "    - compute and display the confusion matrix of the model."
   ]
  },
  {
   "cell_type": "code",
   "execution_count": 21,
   "metadata": {},
   "outputs": [
    {
     "name": "stdout",
     "output_type": "stream",
     "text": [
      "Train Accuracy: 0.9424\n",
      "Test Accuracy: 0.9381\n",
      "40/40 [==============================] - 6s 138ms/step\n"
     ]
    },
    {
     "data": {
      "image/png": "[encoded data removed]",
      "text/plain": [
       "<Figure size 800x600 with 2 Axes>"
      ]
     },
     "metadata": {},
     "output_type": "display_data"
    },
    {
     "data": {
      "image/png": "[encoded data removed]",
      "text/plain": [
       "<Figure size 640x480 with 1 Axes>"
      ]
     },
     "metadata": {},
     "output_type": "display_data"
    }
   ],
   "source": [
    "# TODO\n",
    "\n",
    "# Display the accuracy of the model \n",
    "train_accuracy = model.evaluate(xtrain, ytrain, verbose=0)\n",
    "test_accuracy = model.evaluate(xtest, ytest, verbose=0)\n",
    "\n",
    "print(f\"Train Accuracy: {train_accuracy[1]:.4f}\")\n",
    "print(f\"Test Accuracy: {test_accuracy[1]:.4f}\")\n",
    "\n",
    "# Display confusion matrix\n",
    "y_pred = model.predict(xtest)\n",
    "y_pred_classes = np.argmax(y_pred, axis=1)\n",
    "y_true = np.argmax(ytest, axis=1)\n",
    "\n",
    "confusion_mtx = confusion_matrix(y_true, y_pred_classes)\n",
    "\n",
    "# Plot confusion matrix\n",
    "plt.figure(figsize=(8, 6))\n",
    "sns.heatmap(confusion_mtx, annot=True, fmt='d', cmap='Blues', xticklabels=['Non-Fall', 'Fall'], yticklabels=['Non-Fall', 'Fall'])\n",
    "plt.xlabel('Predicted Label')\n",
    "plt.ylabel('True Label')\n",
    "plt.title('Confusion Matrix')\n",
    "plt.show()\n",
    "\n",
    "# Display the evolution of accuracy over training iterations\n",
    "plt.plot(history.history['accuracy'], label='Training Accuracy')\n",
    "plt.plot(history.history['val_accuracy'], label='Validation Accuracy')\n",
    "plt.xlabel('Epochs')\n",
    "plt.ylabel('Accuracy')\n",
    "plt.legend()\n",
    "plt.show()"
   ]
  },
  {
   "cell_type": "markdown",
   "metadata": {},
   "source": [
    "The model is doing really well overall, with a high accuracy of 99.03%. It's great at getting predictions right. But, because there are zero false positives (incorrectly predicting positive cases), it contributes to an undefined precision. This could be because we need more positive cases in our evaluation set to get a clear precision value. On the flip side, the model misses some positive cases (78 false negatives), suggesting room for improvement in recall. In simpler terms, it's good at getting things right, but we might need more positive examples to fine-tune its precision, and there's potential to catch more positive cases."
   ]
  },
  {
   "cell_type": "markdown",
   "metadata": {},
   "source": [
    "It appears that our model achieved a relatively high training accuracy of 94.24% and a test accuracy of 93.81%, suggesting good performance on both the training and test sets. However, the decreasing validation accuracy over epochs may indicate overfitting, where the model starts to memorize the training data instead of learning general patterns. \n",
    "\n"
   ]
  },
  {
   "cell_type": "code",
   "execution_count": null,
   "metadata": {},
   "outputs": [],
   "source": []
  },
  {
   "cell_type": "markdown",
   "metadata": {},
   "source": [
    "- **TODO: Final evaluation of the model:**\n",
    "    - load the data (pickle file) from the test set with images 96 x 96 px\n",
    "    - transform the labels with *to_categorical*\n",
    "    - evaluate the performance of the model you selected on this final test set\n",
    "    - are your satisfied ?\n",
    "    - do you observe underfitting/overfitting on some models ?"
   ]
  },
  {
   "cell_type": "code",
   "execution_count": 22,
   "metadata": {},
   "outputs": [
    {
     "name": "stdout",
     "output_type": "stream",
     "text": [
      "Final Test Accuracy: 0.8879\n",
      "Final Training Accuracy: 0.9942437410354614\n"
     ]
    }
   ],
   "source": [
    "# TODO\n",
    "\n",
    "# Load the test set\n",
    "with open(\"data_test_96_96_3.pickle\", 'rb') as file:\n",
    "    test_dict = pickle.load(file)\n",
    "\n",
    "X_test = test_dict['data']\n",
    "y_test = test_dict['labels']\n",
    "\n",
    "# Reshape and normalize the images\n",
    "X_test = X_test.reshape((X_test.shape[0], 96, 96, 3)).astype('float32')\n",
    "\n",
    "# Convert labels to categorical (one-hot encoding)\n",
    "y_test = to_categorical(y_test)\n",
    "\n",
    "# Evaluate the model on the final test set\n",
    "test_accuracy = model.evaluate(X_test, y_test, verbose=0)\n",
    "print(f\"Final Test Accuracy: {test_accuracy[1]:.4f}\")\n",
    "\n",
    "# Print training accuracy\n",
    "print(\"Final Training Accuracy:\", history.history['accuracy'][-1]) \n"
   ]
  },
  {
   "cell_type": "markdown",
   "metadata": {},
   "source": [
    "It looks like our model performed well on the final test set, achieving an accuracy of approximately 88.79%. Additionally, the training accuracy is quite high, around 99.42%, indicating that the model learned well from the training data. These results suggest that the model generalizes effectively to new, unseen data."
   ]
  },
  {
   "cell_type": "code",
   "execution_count": 23,
   "metadata": {},
   "outputs": [],
   "source": [
    "model.save(\"best_CNN.keras\")"
   ]
  },
  {
   "cell_type": "markdown",
   "metadata": {},
   "source": [
    "# 2. Compression of the CNN with a combination of pruning and quantization\n",
    "\n",
    "TensorFlow and TensorFlow Lite include compression mechanisms to decrease the load of a CNN in terms of memory and computation.\n",
    "\n",
    "We will use:\n",
    "- the library **tensorflow_model_optimization** for network pruning without and with fine-tuning.\n",
    "- the library **tf.lite.TFLiteConverter** to convert our model with TensorFlow Lite, with an application of quantization.\n",
    "\n",
    "Search the web for the documentation, it can be a little hard for these aspects so **don't give up**."
   ]
  },
  {
   "cell_type": "markdown",
   "metadata": {},
   "source": [
    "## Given funtions\n",
    "We give you a small set of functions that will help you during the following of the lab.\n",
    "These functions mainly serve\n",
    "- to load models, write them to files, and estimate their size (see the doc of each function).\n",
    "- to define specific extensions of the *tensorflow_optimization* package"
   ]
  },
  {
   "cell_type": "code",
   "execution_count": 24,
   "metadata": {},
   "outputs": [],
   "source": [
    "def setup_model(model_file):\n",
    "    \"\"\"Setup a model from a file where is was written using e.g. model.save(filename)\n",
    "\n",
    "    Parameters\n",
    "    ----------\n",
    "    model_file : str\n",
    "        The file containing the model\n",
    "\n",
    "    Returns\n",
    "    -------\n",
    "    tf_model\n",
    "        the loaded model\n",
    "    \"\"\"\n",
    "    \n",
    "    model = load_model(model_file)\n",
    "    return model\n",
    "\n",
    "def save_pruned_model(model, model_file=None):\n",
    "    \"\"\"Save a pruned model after preprocessing it (strip pruneLowMagnitude layers)\n",
    "\n",
    "    Parameters\n",
    "    ----------\n",
    "    model : tf_model\n",
    "        The pruned model to save.\n",
    "    model_file : str (Optional)\n",
    "        The file where the model should be saved\n",
    "        \n",
    "    Returns\n",
    "    -------\n",
    "    tf_model\n",
    "        The preprocessed model for export\n",
    "    str\n",
    "        The file where the model has been saved\n",
    "    \"\"\"\n",
    "    model_for_export = tfmot.sparsity.keras.strip_pruning(model)\n",
    "    \n",
    "    if model_file is None:\n",
    "        _, model_file = tempfile.mkstemp('.h5')\n",
    "    tf.keras.models.save_model(model_for_export, model_file, include_optimizer=False)\n",
    "    \n",
    "    return model_for_export, model_file\n",
    "\n",
    "def get_gzipped_model_size(model=None, keras_file=None, zipped_file=None):\n",
    "    \"\"\"Model size estimation:\n",
    "    Write a model to a file, compress it using gzip and return the file size\n",
    "\n",
    "    Parameters (at least one of the 3)\n",
    "    ----------\n",
    "    model : tf_model (optional)\n",
    "        The model to estimate.\n",
    "    keras_file : str (optional)\n",
    "        The name of the file where the model is saved.\n",
    "    zipped_file : str (optional)\n",
    "        The name of the file containing the compressed model.\n",
    "\n",
    "    Returns\n",
    "    -------\n",
    "    str\n",
    "        The name of the file where the model is saved.\n",
    "    str\n",
    "        The name of the file containing the compressed model.\n",
    "    int\n",
    "        The size of the compressed model\n",
    "    \"\"\"    \n",
    "    if model is not None:\n",
    "        if keras_file is None:\n",
    "            _, keras_file = tempfile.mkstemp('.h5')\n",
    "        model.save(keras_file, include_optimizer=False)\n",
    "        \n",
    "        _, zipped_file = tempfile.mkstemp('.zip')\n",
    "    \n",
    "        with zipfile.ZipFile(zipped_file, 'w', compression=zipfile.ZIP_DEFLATED) as f:\n",
    "            f.write(keras_file)\n",
    "    elif keras_file is not None:\n",
    "        _, zipped_file = tempfile.mkstemp('.zip')\n",
    "    \n",
    "        with zipfile.ZipFile(zipped_file, 'w', compression=zipfile.ZIP_DEFLATED) as f:\n",
    "            f.write(keras_file)\n",
    "    elif zipped_file is None:\n",
    "        raise ValueError(\"You must provide at least model, keras_file, or zipped file\")\n",
    "\n",
    "    return keras_file, zipped_file, math.ceil(os.path.getsize(zipped_file))\n",
    "\n",
    "def print_model_weights_sparsity(model):\n",
    "    \"\"\"Display the sparsity of each layer in a model\n",
    "\n",
    "    Parameters\n",
    "    ----------\n",
    "    model : tf_model (optional)\n",
    "        The model to analyze.\n",
    "    \"\"\"\n",
    "    stripped_pruned_model = tfmot.sparsity.keras.strip_pruning(model)\n",
    "    for layer in stripped_pruned_model.layers:\n",
    "        if isinstance(layer, tf.keras.layers.Wrapper):\n",
    "            weights = layer.trainable_weights\n",
    "        else:\n",
    "            weights = layer.weights\n",
    "        for weight in weights:\n",
    "            if \"kernel\" not in weight.name or \"centroid\" in weight.name:\n",
    "                continue\n",
    "            weight_size = weight.numpy().size\n",
    "            zero_num = np.count_nonzero(weight == 0)\n",
    "            print(\n",
    "                f\"{weight.name}: {zero_num/weight_size:.2%} sparsity \",\n",
    "                f\"({zero_num}/{weight_size})\",\n",
    "            )\n",
    "\n",
    "def apply_constant_prune(model, sparsity, only_dense=1):\n",
    "    \"\"\"Calls tfmot.sparsity.keras.prune_low_magnitude with the possibility to only run on dense layers\n",
    "\n",
    "    Parameters\n",
    "    ----------\n",
    "    model : tf_model\n",
    "        The model to prune.\n",
    "    sparsity : float\n",
    "        The sparsity level to apply ConstantSparsity\n",
    "    only_dense : int (default=1)\n",
    "        Do we only apply pruning on the dense layers ?\n",
    "        \n",
    "    Returns\n",
    "    -------\n",
    "    tf_model\n",
    "        the pruned model\n",
    "    \"\"\"\n",
    "    def apply_pruning_to_dense(layer):\n",
    "        if only_dense and isinstance(layer, tf.keras.layers.Dense):\n",
    "            return tfmot.sparsity.keras.prune_low_magnitude(layer, ConstantSparsity(sparsity, 0))\n",
    "        return layer\n",
    "    model_for_pruning = clone_model(model, clone_function=apply_pruning_to_dense)\n",
    "    return model_for_pruning"
   ]
  },
  {
   "cell_type": "markdown",
   "metadata": {},
   "source": [
    "## 1.1 Network pruning\n",
    "\n",
    "First, we will compress our CNN using a particular approach to network pruning using the function *ConstantSparsity* from the package **tfmot.sparsity.keras**: https://www.tensorflow.org/model_optimization/api_docs/python/tfmot/sparsity/keras/ConstantSparsity.\n",
    "\n",
    "\n",
    "<img src=\"https://miro.medium.com/v2/resize:fit:828/format:webp/1*nicFUkeUpWMW1w_hUVtZiw.png\" alt=\"CNN example\" />\n",
    "\n",
    "This process in done in 3 steps:\n",
    "- decide on the pruning function: pruning_schedule = tfmot.sparsity.keras.ConstantSparsity(...)\n",
    "- build your pruning model: pruned_model = apply_constant_prune(model, sparsity, only_dense=1)\n",
    "- compile and fit: the pruning model is applied during training !\n",
    "=> the new model can be used for prediction, etc.\n",
    "\n",
    "\n",
    "*Remark*: these steps could be repeated in an iterative process (see Lecture), but we will not do it here to decrease computation time."
   ]
  },
  {
   "cell_type": "markdown",
   "metadata": {},
   "source": [
    "- **TODO: Load the data** (yes, again)\n",
    "    - training set (do not forget *to_categorical*) and split it as train/validation sets\n",
    "    - final test set (no splitting)"
   ]
  },
  {
   "cell_type": "code",
   "execution_count": 32,
   "metadata": {},
   "outputs": [],
   "source": [
    "# TODO\n",
    "\n",
    "# Load the data for compression\n",
    "with open(\"data_train_96_96_3.pickle\", 'rb') as file:\n",
    "    train_dict = pickle.load(file)\n",
    "\n",
    "X = train_dict['data']\n",
    "y = train_dict['labels']\n",
    "\n",
    "# Split the data into train and validation sets\n",
    "xtrain, xtest, ytrain, ytest = train_test_split(X, y, train_size=0.8, random_state=42)\n",
    "\n",
    "# Reshape and normalize the images\n",
    "xtrain = xtrain.reshape((xtrain.shape[0], 96, 96, 3)).astype('float32')\n",
    "xtest = xtest.reshape((xtest.shape[0], 96, 96, 3)).astype('float32')\n",
    "\n",
    "\n",
    "# Convert labels to categorical (one-hot encoding)\n",
    "ytrain = to_categorical(ytrain)\n",
    "ytest = to_categorical(ytest)\n",
    "\n",
    "# Load the final test set data\n",
    "with open(\"data_test_96_96_3.pickle\", 'rb') as file:\n",
    "    test_dict = pickle.load(file)\n",
    "\n",
    "xfinal = test_dict['data']\n",
    "yfinal = test_dict['labels']\n",
    "\n",
    "# Reshape and normalize the images\n",
    "xfinal = xfinal.reshape((xfinal.shape[0], 96, 96, 3)).astype('float32')\n",
    "\n",
    "# Convert labels to categorical (one-hot encoding)\n",
    "yfinal = to_categorical(yfinal)\n",
    "\n"
   ]
  },
  {
   "cell_type": "markdown",
   "metadata": {},
   "source": [
    "- Load the model obtained before (done)"
   ]
  },
  {
   "cell_type": "code",
   "execution_count": 33,
   "metadata": {},
   "outputs": [
    {
     "name": "stdout",
     "output_type": "stream",
     "text": [
      "Baseline test accuracy: 0.8878648281097412\n",
      "Model: \"sequential_2\"\n",
      "_________________________________________________________________\n",
      " Layer (type)                Output Shape              Param #   \n",
      "=================================================================\n",
      " conv2d_4 (Conv2D)           (None, 94, 94, 32)        896       \n",
      "                                                                 \n",
      " batch_normalization_4 (Batc  (None, 94, 94, 32)       128       \n",
      " hNormalization)                                                 \n",
      "                                                                 \n",
      " max_pooling2d_4 (MaxPooling  (None, 47, 47, 32)       0         \n",
      " 2D)                                                             \n",
      "                                                                 \n",
      " conv2d_5 (Conv2D)           (None, 45, 45, 32)        9248      \n",
      "                                                                 \n",
      " batch_normalization_5 (Batc  (None, 45, 45, 32)       128       \n",
      " hNormalization)                                                 \n",
      "                                                                 \n",
      " max_pooling2d_5 (MaxPooling  (None, 22, 22, 32)       0         \n",
      " 2D)                                                             \n",
      "                                                                 \n",
      " conv2d_6 (Conv2D)           (None, 20, 20, 64)        18496     \n",
      "                                                                 \n",
      " batch_normalization_6 (Batc  (None, 20, 20, 64)       256       \n",
      " hNormalization)                                                 \n",
      "                                                                 \n",
      " max_pooling2d_6 (MaxPooling  (None, 10, 10, 64)       0         \n",
      " 2D)                                                             \n",
      "                                                                 \n",
      " flatten_2 (Flatten)         (None, 6400)              0         \n",
      "                                                                 \n",
      " dense_4 (Dense)             (None, 128)               819328    \n",
      "                                                                 \n",
      " dense_5 (Dense)             (None, 2)                 258       \n",
      "                                                                 \n",
      "=================================================================\n",
      "Total params: 848,738\n",
      "Trainable params: 848,482\n",
      "Non-trainable params: 256\n",
      "_________________________________________________________________\n"
     ]
    }
   ],
   "source": [
    "base_model = load_model(\"best_CNN.keras\")\n",
    "baseline_model_loss, baseline_model_accuracy = base_model.evaluate(xfinal, yfinal, verbose=0)\n",
    "print('Baseline test accuracy:', baseline_model_accuracy)\n",
    "base_model.summary()"
   ]
  },
  {
   "cell_type": "markdown",
   "metadata": {},
   "source": [
    "- Pruning the model: the parameter *sparsity* for *ConstantSparsity* allows to choose the level of pruning applied.\n",
    "    - The model should be trained (fit 2 epochs) in order to actually prune the network.\n",
    "    - There is a callback parameter in the fit function which we provide below:\n",
    "        - *UpdatePruningStep* is the option to apply pruning at each step of gradient descent,\n",
    "        - *tfmot.sparsity.keras.PruningSummaries* allows to follow the evolution of the sparsity,\n",
    "        - launch in a new terminal *tensorboard --logdir={log_dir}* where log_dir is the one generated below."
   ]
  },
  {
   "cell_type": "code",
   "execution_count": 34,
   "metadata": {},
   "outputs": [
    {
     "name": "stdout",
     "output_type": "stream",
     "text": [
      "/var/folders/67/rgb72lwx68xddd0qgfmmds1r0000gn/T/tmpmdri9y7f\n"
     ]
    }
   ],
   "source": [
    "log_dir = tempfile.mkdtemp()\n",
    "print(log_dir)\n",
    "callbacks = [\n",
    "    tfmot.sparsity.keras.UpdatePruningStep(),\n",
    "    tfmot.sparsity.keras.PruningSummaries(log_dir=log_dir)\n",
    "]"
   ]
  },
  {
   "cell_type": "markdown",
   "metadata": {},
   "source": [
    "- **TODO: optimal pruning of the model**:\n",
    "    - vary the level of sparsity and plot the evolution of\n",
    "        - the accuracy for the pruned model (on train and validation),\n",
    "        - the size of the original and new models as estimated by the provided function get_gzipped_model_size,\n",
    "    - which choice of sparsity is the best ?\n",
    "    - Save the corresponding model to the file \"constant_pruning.h5\" using save_pruned_model."
   ]
  },
  {
   "cell_type": "code",
   "execution_count": 35,
   "metadata": {},
   "outputs": [
    {
     "name": "stdout",
     "output_type": "stream",
     "text": [
      "\n",
      "Applying Constant Sparsity: 0.1\n",
      "Train Accuracy: 0.9974, Validation Accuracy: 0.9992\n",
      "Original Model Size: 3247472 bytes, Pruned Model Size: 3107822 bytes\n",
      "\n",
      "Applying Constant Sparsity: 0.2\n",
      "Train Accuracy: 0.9990, Validation Accuracy: 0.9865\n",
      "Original Model Size: 3247472 bytes, Pruned Model Size: 2932430 bytes\n",
      "\n",
      "Applying Constant Sparsity: 0.3\n",
      "Train Accuracy: 0.9986, Validation Accuracy: 0.9810\n",
      "Original Model Size: 3247472 bytes, Pruned Model Size: 2713399 bytes\n",
      "\n",
      "Applying Constant Sparsity: 0.4\n",
      "Train Accuracy: 0.9988, Validation Accuracy: 1.0000\n",
      "Original Model Size: 3247472 bytes, Pruned Model Size: 2463314 bytes\n",
      "\n",
      "Applying Constant Sparsity: 0.5\n",
      "Train Accuracy: 1.0000, Validation Accuracy: 1.0000\n",
      "Original Model Size: 3247472 bytes, Pruned Model Size: 2185294 bytes\n",
      "\n",
      "Best Sparsity: 0.4, Best Validation Accuracy: 1.0000\n",
      "WARNING:tensorflow:Compiled the loaded model, but the compiled metrics have yet to be built. `model.compile_metrics` will be empty until you train or evaluate the model.\n"
     ]
    }
   ],
   "source": [
    "# TODO\n",
    "# Define sparsity values to test\n",
    "sparsity_values = [0.1, 0.2, 0.3, 0.4, 0.5]\n",
    "\n",
    "# Dictionary to store results\n",
    "results = {\n",
    "    'sparsity': [],\n",
    "    'train_accuracy': [],\n",
    "    'val_accuracy': [],\n",
    "    'original_model_size': [],\n",
    "    'pruned_model_size': []\n",
    "}\n",
    "\n",
    "# Initial training for baseline measurements\n",
    "baseline_history = model.fit(xtrain, ytrain, validation_data=(xtest, ytest), epochs=2, verbose=0)\n",
    "\n",
    "# Initial model size\n",
    "_, original_model_file, original_model_size = get_gzipped_model_size(model=model)\n",
    "\n",
    "# Callbacks for pruning\n",
    "log_dir = tempfile.mkdtemp()\n",
    "callbacks = [\n",
    "    tfmot.sparsity.keras.UpdatePruningStep(),\n",
    "    tfmot.sparsity.keras.PruningSummaries(log_dir=log_dir)\n",
    "]\n",
    "\n",
    "for sparsity in sparsity_values:\n",
    "    print(f\"\\nApplying Constant Sparsity: {sparsity}\")\n",
    "\n",
    "    # Apply constant sparsity to create pruned model\n",
    "    pruned_model = apply_constant_prune(model, sparsity)\n",
    "\n",
    "    # Compile the pruned model\n",
    "    pruned_model.compile(optimizer='adam', loss='categorical_crossentropy', metrics=['accuracy'])\n",
    "\n",
    "    # Train the pruned model\n",
    "    pruned_history = pruned_model.fit(xtrain, ytrain, validation_data=(xtest, ytest), epochs=2, callbacks=callbacks, verbose=0)\n",
    "\n",
    "    # Evaluate the pruned model\n",
    "    train_accuracy = pruned_history.history['accuracy'][-1]\n",
    "    val_accuracy = pruned_history.history['val_accuracy'][-1]\n",
    "\n",
    "    # Model size after pruning\n",
    "    _, pruned_model_file, pruned_model_size = get_gzipped_model_size(model=pruned_model)\n",
    "\n",
    "    # Record results\n",
    "    results['sparsity'].append(sparsity)\n",
    "    results['train_accuracy'].append(train_accuracy)\n",
    "    results['val_accuracy'].append(val_accuracy)\n",
    "    results['original_model_size'].append(original_model_size)\n",
    "    results['pruned_model_size'].append(pruned_model_size)\n",
    "\n",
    "    print(f\"Train Accuracy: {train_accuracy:.4f}, Validation Accuracy: {val_accuracy:.4f}\")\n",
    "    print(f\"Original Model Size: {original_model_size} bytes, Pruned Model Size: {pruned_model_size} bytes\")\n",
    "\n",
    "# Find the sparsity with the best validation accuracy\n",
    "best_sparsity = results['sparsity'][np.argmax(results['val_accuracy'])]\n",
    "print(f\"\\nBest Sparsity: {best_sparsity}, Best Validation Accuracy: {max(results['val_accuracy']):.4f}\")\n",
    "\n",
    "# Save the model with the best sparsity\n",
    "best_pruned_model = apply_constant_prune(model, best_sparsity)\n",
    "best_pruned_model.compile(optimizer='adam', loss='categorical_crossentropy', metrics=['accuracy'])\n",
    "_, best_pruned_model_file = save_pruned_model(best_pruned_model, \"constant_pruning.h5\")\n"
   ]
  },
  {
   "cell_type": "markdown",
   "metadata": {},
   "source": [
    "**Analyse** : \n",
    "\n",
    "It seems like applying a sparsity level of 0.4 resulted in the best validation accuracy, achieving 100%. This indicates that the pruning process did not significantly impact the model's performance. Additionally, the corresponding pruned model achieved a smaller size compared to the original model."
   ]
  },
  {
   "cell_type": "markdown",
   "metadata": {},
   "source": [
    " - **TODO: For the selected model, evaluate the performance on the final test set**"
   ]
  },
  {
   "cell_type": "code",
   "execution_count": 38,
   "metadata": {},
   "outputs": [
    {
     "name": "stdout",
     "output_type": "stream",
     "text": [
      "62/62 - 5s - loss: 0.0885 - accuracy: 0.9903 - 5s/epoch - 74ms/step\n",
      "\n",
      "Final Test Accuracy: 0.9903\n"
     ]
    }
   ],
   "source": [
    "# TODO\n",
    "\n",
    "# Evaluate the pruned model on the final test set\n",
    "final_test_loss, final_test_accuracy = best_pruned_model.evaluate(xfinal, yfinal, verbose=2)\n",
    "\n",
    "print(f\"\\nFinal Test Accuracy: {final_test_accuracy:.4f}\")\n"
   ]
  },
  {
   "cell_type": "markdown",
   "metadata": {},
   "source": [
    "It seems like the pruned model performed too well, achieving a final test accuracy of 99.03%. This result might be due to overfitting, maybe could be due to the small number of epochs(2)"
   ]
  },
  {
   "cell_type": "markdown",
   "metadata": {},
   "source": [
    "## 1.2 Quantization\n",
    "\n",
    "Secondly, we will compress our CNN using quantization optimization as implemented in TensorFlow Lite.\n",
    "The quantization is directly performed during the conversion of the TensorFlow model in a file .tflite.\n",
    "\n",
    "This file can be used directly by a TensorFlow Lite interpreter on an embedded device (if small enough) !"
   ]
  },
  {
   "cell_type": "markdown",
   "metadata": {},
   "source": [
    "## Given funtions\n",
    "We give you a small set of functions that will help you during the following of the lab.\n",
    "These functions mainly serve\n",
    "- to write them to files (see the doc of each function),\n",
    "- to evaluate the accuracy of the tensorflow lite model."
   ]
  },
  {
   "cell_type": "code",
   "execution_count": 39,
   "metadata": {},
   "outputs": [],
   "source": [
    "def save_tflite_model(model, model_file=None):\n",
    "    \"\"\"Save a TensorFlow Lite model to a file\n",
    "\n",
    "    Parameters\n",
    "    ----------\n",
    "    model : tflite_model\n",
    "        The tflite model to save.\n",
    "    model_file : str (Optional)\n",
    "        The file where the model should be saved\n",
    "        \n",
    "    Returns\n",
    "    -------\n",
    "    str\n",
    "        The file where the model has been saved\n",
    "    \"\"\"\n",
    "    if model_file is None:\n",
    "        _, model_file = tempfile.mkstemp('.tflite')\n",
    "    with open(model_file, 'wb') as f:\n",
    "        f.write(model)\n",
    "\n",
    "    return model_file\n",
    "\n",
    "def tflite_evaluate(X, y, model=None, model_file=None):\n",
    "    \"\"\"Evaluate a TensorFlow Lite model\n",
    "    \n",
    "    Parameters\n",
    "    ----------\n",
    "    X, y : list, list\n",
    "        The labeled dataset\n",
    "    model : tf_model_lite (Optional)\n",
    "        The model to evaluate\n",
    "    model_file : str (Optional)\n",
    "        The file where the model is saved\n",
    "        \n",
    "    Returns\n",
    "    -------\n",
    "    float\n",
    "        The accuracy of the model on the dataset\n",
    "    \"\"\"\n",
    "    if model is None and model_file is None:\n",
    "        raise ValueError(\"tflite_evaluate: give either model or model_file\")\n",
    "    \n",
    "    # Load and run the TensorFlow Lite model on test data\n",
    "    if model is not None:\n",
    "        interpreter = tf.lite.Interpreter(model_pcontent=model)\n",
    "    else:\n",
    "        interpreter = tf.lite.Interpreter(model_path=model_file)\n",
    "    interpreter.allocate_tensors()\n",
    "\n",
    "    input_index = interpreter.get_input_details()[0][\"index\"]\n",
    "    output_index = interpreter.get_output_details()[0][\"index\"]\n",
    "\n",
    "    # Evaluate the model\n",
    "    prediction_digits = []\n",
    "    for test_image in X:\n",
    "        test_image = np.expand_dims(test_image, axis=0).astype(np.float32)\n",
    "        interpreter.set_tensor(input_index, test_image)\n",
    "\n",
    "        interpreter.invoke()\n",
    "\n",
    "        output = interpreter.tensor(output_index)\n",
    "        digit = np.argmax(output()[0])\n",
    "        prediction_digits.append(digit)\n",
    "        \n",
    "    tflite_qaware_accuracy = (np.array(prediction_digits) == np.argmax(y, axis=1)).mean()\n",
    "    return tflite_qaware_accuracy\n",
    "\n",
    "def convert_to_TFLite(model, optimizations=None):\n",
    "    \"\"\"Convert a model to TensorFlow Lite format with possible optimizations\n",
    "    \n",
    "    Parameters\n",
    "    ----------\n",
    "    model : tf_model\n",
    "        The model to convert\n",
    "    optimizations : list (Optional)\n",
    "        The optimization options\n",
    "        \n",
    "    Returns\n",
    "    -------\n",
    "    tflite_model\n",
    "        The converted model\n",
    "    \"\"\"\n",
    "    converter = tf.lite.TFLiteConverter.from_keras_model(model)\n",
    "    if optimizations is not None:\n",
    "        converter.optimizations = optimizations\n",
    "    quant_tflite_model = converter.convert()\n",
    "    return quant_tflite_model"
   ]
  },
  {
   "cell_type": "markdown",
   "metadata": {},
   "source": [
    "- Load the pruned model obtained before"
   ]
  },
  {
   "cell_type": "code",
   "execution_count": 40,
   "metadata": {},
   "outputs": [
    {
     "name": "stdout",
     "output_type": "stream",
     "text": [
      "WARNING:tensorflow:No training configuration found in the save file, so the model was *not* compiled. Compile it manually.\n"
     ]
    }
   ],
   "source": [
    "# TODO\n",
    "\n",
    "# Load the pruned model\n",
    "pruned_model = load_model(\"constant_pruning.h5\")"
   ]
  },
  {
   "cell_type": "code",
   "execution_count": 41,
   "metadata": {},
   "outputs": [],
   "source": [
    "pruned_model.compile(optimizer='adam', loss='categorical_crossentropy', metrics=['accuracy'])"
   ]
  },
  {
   "cell_type": "markdown",
   "metadata": {},
   "source": [
    "- **TODO: convert the model to the TensorFlow Lite format**\n",
    "    - use *convert_to_TFLite* for the conversion: look inside this function and explain very briefly the steps it follows,\n",
    "    - use *save_tflite_model* to save the obtained model to the file \"pruning_quant.tflite\"."
   ]
  },
  {
   "cell_type": "code",
   "execution_count": 42,
   "metadata": {},
   "outputs": [
    {
     "name": "stderr",
     "output_type": "stream",
     "text": [
      "WARNING:absl:Found untraced functions such as _jit_compiled_convolution_op, _jit_compiled_convolution_op, _jit_compiled_convolution_op, _update_step_xla while saving (showing 4 of 4). These functions will not be directly callable after loading.\n"
     ]
    },
    {
     "name": "stdout",
     "output_type": "stream",
     "text": [
      "INFO:tensorflow:Assets written to: /var/folders/67/rgb72lwx68xddd0qgfmmds1r0000gn/T/tmpzv5d_zgh/assets\n"
     ]
    },
    {
     "name": "stderr",
     "output_type": "stream",
     "text": [
      "INFO:tensorflow:Assets written to: /var/folders/67/rgb72lwx68xddd0qgfmmds1r0000gn/T/tmpzv5d_zgh/assets\n"
     ]
    },
    {
     "name": "stdout",
     "output_type": "stream",
     "text": [
      "TensorFlow Lite model with quantization saved to: pruning_quant.tflite\n"
     ]
    },
    {
     "name": "stderr",
     "output_type": "stream",
     "text": [
      "2024-01-29 21:16:42.583712: W tensorflow/compiler/mlir/lite/python/tf_tfl_flatbuffer_helpers.cc:364] Ignored output_format.\n",
      "2024-01-29 21:16:42.584840: W tensorflow/compiler/mlir/lite/python/tf_tfl_flatbuffer_helpers.cc:367] Ignored drop_control_dependency.\n",
      "2024-01-29 21:16:42.602570: I tensorflow/cc/saved_model/reader.cc:45] Reading SavedModel from: /var/folders/67/rgb72lwx68xddd0qgfmmds1r0000gn/T/tmpzv5d_zgh\n",
      "2024-01-29 21:16:42.606098: I tensorflow/cc/saved_model/reader.cc:89] Reading meta graph with tags { serve }\n",
      "2024-01-29 21:16:42.606118: I tensorflow/cc/saved_model/reader.cc:130] Reading SavedModel debug info (if present) from: /var/folders/67/rgb72lwx68xddd0qgfmmds1r0000gn/T/tmpzv5d_zgh\n",
      "2024-01-29 21:16:42.621028: I tensorflow/compiler/mlir/mlir_graph_optimization_pass.cc:353] MLIR V1 optimization pass is not enabled\n",
      "2024-01-29 21:16:42.623022: I tensorflow/cc/saved_model/loader.cc:231] Restoring SavedModel bundle.\n",
      "2024-01-29 21:16:42.737396: I tensorflow/cc/saved_model/loader.cc:215] Running initialization op on SavedModel bundle at path: /var/folders/67/rgb72lwx68xddd0qgfmmds1r0000gn/T/tmpzv5d_zgh\n",
      "2024-01-29 21:16:42.765529: I tensorflow/cc/saved_model/loader.cc:314] SavedModel load for tags { serve }; Status: success: OK. Took 161753 microseconds.\n",
      "2024-01-29 21:16:42.956539: I tensorflow/compiler/mlir/tensorflow/utils/dump_mlir_util.cc:269] disabling MLIR crash reproducer, set env var `MLIR_CRASH_REPRODUCER_DIRECTORY` to enable.\n"
     ]
    }
   ],
   "source": [
    "# TODO\n",
    "\n",
    "# Convert the pruned model to TensorFlow Lite format with quantization\n",
    "quant_tflite_model = convert_to_TFLite(pruned_model)\n",
    "\n",
    "#This functions follows the steps : \n",
    "\n",
    "# 1) reation of TFLiteConverter: The from_keras_model method is used to create a TFLiteConverter from the Keras model \n",
    "#   (pruned_model in this case).\n",
    "# 2) Optimizations: If specified, optimizations can be applied to the converter, allowing for specific optimizations \n",
    "#    during the conversion process.\n",
    "# 3) Conversion: The convert method is then called on the converter, transforming the Keras model into TensorFlow Lite \n",
    "#    format with the specified optimizations.\n",
    "\n",
    "# Save the TensorFlow Lite model to a file\n",
    "tflite_model_file = save_tflite_model(quant_tflite_model, \"pruning_quant.tflite\")\n",
    "\n",
    "print(f\"TensorFlow Lite model with quantization saved to: {tflite_model_file}\")"
   ]
  },
  {
   "cell_type": "markdown",
   "metadata": {},
   "source": [
    "- **TODO: evaluate your results**: for the base model, the pruned model, and the tflite model\n",
    "    - display the size of the model using *get_gzipped_model_size*. For the tflite model, input the *.tflite* directly with the parameter keras_file.\n",
    "    - display the accuracy obtained on the final test set. For the tflite model:\n",
    "        - use the function *tflite_evaluate* to get the accuracy,\n",
    "        - look inside this function and explain very briefly the steps it follows."
   ]
  },
  {
   "cell_type": "code",
   "execution_count": 45,
   "metadata": {},
   "outputs": [
    {
     "name": "stdout",
     "output_type": "stream",
     "text": [
      "WARNING:tensorflow:No training configuration found in the save file, so the model was *not* compiled. Compile it manually.\n"
     ]
    },
    {
     "name": "stderr",
     "output_type": "stream",
     "text": [
      "WARNING:tensorflow:No training configuration found in the save file, so the model was *not* compiled. Compile it manually.\n"
     ]
    },
    {
     "name": "stdout",
     "output_type": "stream",
     "text": [
      "Base Model Size: 3146276 bytes\n",
      "Pruned Model Size: 1979882 bytes\n",
      "Baseline Test Accuracy: 0.8878648281097412\n",
      "Pruned Model Test Accuracy: 0.9902713894844055\n",
      "TFLite Model Size: 1967890 bytes\n"
     ]
    },
    {
     "name": "stderr",
     "output_type": "stream",
     "text": [
      "INFO: Initialized TensorFlow Lite runtime.\n",
      "INFO: Applying 1 TensorFlow Lite delegate(s) lazily.\n",
      "INFO: Created TensorFlow Lite XNNPACK delegate for CPU.\n",
      "VERBOSE: Replacing 16 node(s) with delegate (TfLiteXNNPackDelegate) node, yielding 1 partitions for the whole graph.\n",
      "INFO: Successfully applied the default TensorFlow Lite delegate indexed at 0.\n",
      " *NOTE*: because a delegate has been applied, the precision of computations should be unchanged, but the exact output tensor values may have changed. If such output values are checked in your code, like in your tests etc., please consider increasing error tolerance for the check.\n"
     ]
    },
    {
     "name": "stdout",
     "output_type": "stream",
     "text": [
      "TFLite Model Test Accuracy: 0.9902713773681515\n"
     ]
    }
   ],
   "source": [
    "# TODO\n",
    "\n",
    "# Load the base model\n",
    "base_model = load_model(\"best_CNN.keras\")\n",
    "\n",
    "# Load the pruned model\n",
    "pruned_model = load_model(\"constant_pruning.h5\")\n",
    "# Compile the pruned model\n",
    "pruned_model.compile(optimizer='adam', loss='categorical_crossentropy', metrics=['accuracy'])\n",
    "\n",
    "\n",
    "# Display the size of the base model\n",
    "base_model_file, _, base_model_size = get_gzipped_model_size(model=base_model)\n",
    "print(f\"Base Model Size: {base_model_size} bytes\")\n",
    "\n",
    "# Display the size of the pruned model\n",
    "_, pruned_model_file, pruned_model_size = get_gzipped_model_size(model=pruned_model)\n",
    "print(f\"Pruned Model Size: {pruned_model_size} bytes\")\n",
    "\n",
    "# Evaluate the base model on the final test set\n",
    "baseline_model_accuracy = base_model.evaluate(xfinal, yfinal, verbose=0)[1]\n",
    "print('Baseline Test Accuracy:', baseline_model_accuracy)\n",
    "\n",
    "# Evaluate the pruned model on the final test set\n",
    "pruned_model_accuracy = pruned_model.evaluate(xfinal, yfinal, verbose=0)[1]\n",
    "print('Pruned Model Test Accuracy:', pruned_model_accuracy)\n",
    "\n",
    "# Load the TFLite model\n",
    "tflite_model_file = \"pruning_quant.tflite\"\n",
    "\n",
    "# Display the size of the TFLite model\n",
    "_, _, tflite_model_size = get_gzipped_model_size(keras_file=tflite_model_file)\n",
    "print(f\"TFLite Model Size: {tflite_model_size} bytes\")\n",
    "\n",
    "# Evaluate the TFLite model on the final test set\n",
    "tflite_model_accuracy = tflite_evaluate(xfinal, yfinal, model_file=tflite_model_file)\n",
    "print('TFLite Model Test Accuracy:', tflite_model_accuracy)\n",
    "\n",
    "#The steps followed by the tflite_evaluate function:\n",
    "\n",
    "#1) It loads the TFLite model using the provided model_file path.\n",
    "#2) Allocates tensors for input and output using the TFLite model.\n",
    "#3) Retrieves the input and output indices.\n",
    "#4) Iterates through the test data, sets the input tensor, invokes the interpreter, and retrieves the output tensor.\n",
    "#5) Compares the predicted digit (argmax of output) with the ground truth labels.\n",
    "#6) Calculates the accuracy as the fraction of correct predictions.\n",
    "\n"
   ]
  },
  {
   "cell_type": "markdown",
   "metadata": {},
   "source": [
    "- **TODO: Questions**:\n",
    "    - Are you satisfied with the results of the compression ?\n",
    "    - Analyse in terms of accuracy, model size.\n",
    "    - What possible benefits can you hope for embedding in a device ? Give at least 3."
   ]
  },
  {
   "cell_type": "markdown",
   "metadata": {},
   "source": [
    "Overall, the results suggest that the compression techniques applied (pruning and quantization) have effectively reduced the model size while preserving high accuracy. \n",
    "\n",
    "In fact : \n",
    "\n",
    "- Baseline Model Size: 3146276 bytes\n",
    "- Pruned Model Size: 1979882 bytes\n",
    "- TFLite Model Size: 1967890 bytes\n",
    "\n",
    "The pruned model and the TFLite model are significantly smaller than the baseline model. \n",
    "\n",
    "When it comes to accuracy : \n",
    "\n",
    "- Baseline Test Accuracy: 0.8879 (88.79%)\n",
    "- Pruned Model Test Accuracy: 0.9903 (99.03%)\n",
    "- TFLite Model Test Accuracy: 0.9903 (99.03%)\n",
    "  \n",
    "Both the pruned model and the TensorFlow Lite model achieved high accuracy on the test set, even outperforming the baseline model.\n",
    "\n",
    "Embedding such compressed models in devices can lead to more efficient and faster inference, making them suitable for deployment in real-world applications. \n",
    "It also offers several benefits : \n",
    "\n",
    "- Reduced Size: compressed models have smaller file sizes compared to their original size. This reduction in model size is crucial for devices with limited storage capacity, such as mobile phones, IoT devices, and edge devices.\n",
    "- Faster Inference Speed : Smaller models often result in faster inference times.\n",
    "- ergy Efficiency : Compressed models often lead to energy-efficient inference on devices with limited battery capacity. The reduced model size requires fewer computational resources, resulting in lower power consumption during inference. \n"
   ]
  },
  {
   "cell_type": "markdown",
   "metadata": {},
   "source": [
    "***Conclusion***\n",
    "In this lab, we worked on compressing a Convolutional Neural Network (CNN) model. We started by training and evaluating a base CNN model on a dataset of 96x96 pixel images. Then, we explored model compression techniques, focusing on pruning and quantization. Pruning involved selectively removing parts of the model, and we found that choosing the right sparsity level is crucial to maintain accuracy. Quantization, applied to the pruned model, significantly reduced its size without compromising accuracy. We also converted the pruned model to TensorFlow Lite format, suitable for on-device applications. The results showed a clear trade-off between model size and accuracy. Overall, this lab provided practical insights into optimizing models for deployment on resource-constrained devices, demonstrating the relevance of these techniques in real-world scenarios."
   ]
  },
  {
   "cell_type": "markdown",
   "metadata": {},
   "source": [
    "# 3. Development of a Fall Detection System (FDS) in production\n",
    "\n",
    "In this part, we ask you to use the lectures, the labs, your own culture, and your imagination."
   ]
  },
  {
   "cell_type": "markdown",
   "metadata": {},
   "source": [
    "A few directions:\n",
    "- You can answer to this part directly inside the jupyter-notebook or on a separate pdf file to send together with your notebook.\n",
    "- The length is limited to the equivalent of 2 pages of content, **no more !**\n",
    "- We prefer 1 page with content that is synthetic, over 10 pages of gibberish.\n",
    "- We advice that your group of 2 think about this part over a coffee, a tea, or any beverage/food that you prefer..."
   ]
  },
  {
   "cell_type": "markdown",
   "metadata": {},
   "source": [
    "Up to now:\n",
    "- you have set up a classification model for Human Activity Recognition using data from sensors on the person's body (ankle, wrist, and chest).\n",
    "- you have set up a compressed CNN model for embedded fall detection using images from a video camera."
   ]
  },
  {
   "cell_type": "markdown",
   "metadata": {},
   "source": [
    "### **Question to develop** : How would you build a fall detection system for old people’s homes (\"maisons de retraite\") ? Be creative !"
   ]
  },
  {
   "cell_type": "markdown",
   "metadata": {},
   "source": [
    "Your answer should **include** answers to these aspects:\n",
    "- Application itself\n",
    "    - Does this problem correspond to an application of AI at the edge ? How so ?\n",
    "    - BLERP analysis\n",
    "- Method developped\n",
    "    - Machine learning\n",
    "        - Is it a supervised or unsupervised learning problem ?\n",
    "        - Where does the training happen ?\n",
    "        - What mechine learning approach do you consider ? What constraints should drive your choice ?\n",
    "    - Getting and combining data\n",
    "        - Do you need additional data for your application ?\n",
    "        - Using sensor data and image data, how do you combine them ? Synchronisation/Ensemble learning ?\n",
    "        - What happens if the elder is outside of the field of vision of the camera ?\n",
    "    - What type of hardware would you use (no need to specific chip names, just the general type: CPU/GPU/TPU/Laptop/microcontrollers, security cameras/smartwatches/smartphones, etc.)\n",
    "    - Give an idea of the steps you would follow to develop the whole fall detection system\n",
    "- Final validation and production\n",
    "    - Which validation method will you use ?\n",
    "    - Where do you embed and run the final model ?\n",
    "    - Once your model is deployed, will you need to update it ? When/How ?"
   ]
  },
  {
   "cell_type": "markdown",
   "metadata": {},
   "source": [
    "- Application itself : \n",
    "\n",
    "First of all, this problem correspond to an applicatio of AI at the edge. In fact, edge computing involves processing data locally on devices instead of relying on centralized cloud servers. In this context, the edge devices could be cameras and sensors within the old people's homes.\n",
    "\n",
    "- Method developped :\n",
    "    - Machine learning :\n",
    "  \n",
    "          - Fall detection system would be a supervised learning proble since the data required for training is labeled. As the example we worked on ( 0 : non-fall, 1 : fall)\n",
    "      \n",
    "          - Training can happen on-site using data collected from the specific environment where the fall detection system will be deployed. This ensures adaptation to the unique characteristics of the elderly care facility.\n",
    "      \n",
    "          -  Convolutional Neural Networks (CNNs) (lab2) for image data and a sensor-based model for human activity recognition can be considered(lab 1). ==> Real-time processing is crucial\n",
    "      \n",
    "\n",
    "\n",
    "\n",
    "    - Getting and combining data\n",
    "\n",
    "          - We may need additional data to enhance the model's generalization and accuracy\n",
    "      \n",
    "          - We could use both approaches : The synchronization of timestamps ensures temporal alignment of sensor and image data, allowing for a direct correlation between events captured by different modalities. Additionally, ensemble learning, where predictions from separate sensor and image models are combined, provides a robust system by leveraging the strengths of each modality independently.\n",
    "\n",
    "          - To address this limitation, we could be using wearable devices equipped with accelerometers, gyroscopes, and other motion sensors. These sensors continuously monitor the person's movements, even when they are not within the camera's sight.\n",
    "\n",
    "\n",
    "     - Edge devices within the homes could include microcontrollers on wearable devices, CPUs on edge servers, and GPUs for more computationally intensive tasks.\n",
    "     - Development steps :\n",
    "           1. data collection (images and sensor data)\n",
    "           2. preprocessing : for example handle missing values (interpolation) and synchronize timestamps\n",
    "           3. Model training : CNN for image data for example and classification model for sensor data\n",
    "           4. Validation : cross validation for example\n",
    "\n",
    "- Final validation and production :\n",
    "      - For the validation we would try to do a real time simulation by simulating the functioning od a care facility\n",
    "      - The final model runs on the edge devices within old people's homes\n",
    "      - We would have to regularly update the model based on new labeled data and evolving patterns to maintain high accuracy.\n",
    "   \n",
    "              \n",
    "      "
   ]
  }
 ],
 "metadata": {
  "kernelspec": {
   "display_name": "Python 3 (ipykernel)",
   "language": "python",
   "name": "python3"
  },
  "language_info": {
   "codemirror_mode": {
    "name": "ipython",
    "version": 3
   },
   "file_extension": ".py",
   "mimetype": "text/x-python",
   "name": "python",
   "nbconvert_exporter": "python",
   "pygments_lexer": "ipython3",
   "version": "3.8.18"
  }
 },
 "nbformat": 4,
 "nbformat_minor": 4
}
